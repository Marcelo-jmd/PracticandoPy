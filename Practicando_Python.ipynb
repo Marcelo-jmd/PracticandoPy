{
  "nbformat": 4,
  "nbformat_minor": 0,
  "metadata": {
    "colab": {
      "provenance": [],
      "authorship_tag": "ABX9TyPugDhe+taPCHidsz1krsb+",
      "include_colab_link": true
    },
    "kernelspec": {
      "name": "python3",
      "display_name": "Python 3"
    },
    "language_info": {
      "name": "python"
    }
  },
  "cells": [
    {
      "cell_type": "markdown",
      "metadata": {
        "id": "view-in-github",
        "colab_type": "text"
      },
      "source": [
        "<a href=\"https://colab.research.google.com/github/Marcelo-jmd/PracticandoPy/blob/main/Practicando_Python.ipynb\" target=\"_parent\"><img src=\"https://colab.research.google.com/assets/colab-badge.svg\" alt=\"Open In Colab\"/></a>"
      ]
    },
    {
      "cell_type": "markdown",
      "source": [
        "<h1>Recopilación y muestra de datos<h1>\n",
        "<p>1 - Crea un programa que solicite al usuario que escriba su nombre y luego imprima \"Hola, [nombre].\"<p>\n"
      ],
      "metadata": {
        "id": "2UpsA52TmsCN"
      }
    },
    {
      "cell_type": "code",
      "execution_count": null,
      "metadata": {
        "colab": {
          "base_uri": "https://localhost:8080/"
        },
        "id": "qOCPElzymRke",
        "outputId": "0296ae76-8f3a-44d6-893b-7e9ef000e62a"
      },
      "outputs": [
        {
          "output_type": "stream",
          "name": "stdout",
          "text": [
            "Ingrese su nombre: Marcelo\n",
            "Hola Marcelo\n"
          ]
        }
      ],
      "source": [
        "nombre = input('Ingrese su nombre: ')\n",
        "print(f'Hola {nombre}')"
      ]
    },
    {
      "cell_type": "markdown",
      "source": [
        "2 - Crea un programa que solicite al usuario que escriba su nombre y edad, y luego imprima \"Hola, [nombre], tienes [edad] años.\""
      ],
      "metadata": {
        "id": "JQV1wHiNnn5F"
      }
    },
    {
      "cell_type": "code",
      "source": [
        "nom = input('Ingrese su nombre: ')\n",
        "edad = input('Ingrese su edad: ')\n",
        "print('Hola, {}, tienes {} años'.format(nom,edad))"
      ],
      "metadata": {
        "colab": {
          "base_uri": "https://localhost:8080/"
        },
        "id": "DKyHL_H7or_d",
        "outputId": "cd6dcb86-64b1-447c-cf53-fc6a9839f461"
      },
      "execution_count": null,
      "outputs": [
        {
          "output_type": "stream",
          "name": "stdout",
          "text": [
            "Ingrese su nombre: Marcelo\n",
            "Ingrese su edad: 23\n",
            "Hola, Marcelo, tienes 23 años\n"
          ]
        }
      ]
    },
    {
      "cell_type": "markdown",
      "source": [
        "3 - Crea un programa que solicite al usuario que escriba su nombre, edad y altura en metros, y luego imprima \"Hola, [nombre], tienes [edad] años y mides [altura] metros.\"\n"
      ],
      "metadata": {
        "id": "biwC685Fns8k"
      }
    },
    {
      "cell_type": "code",
      "source": [
        "nom = input('Ingrese su nombre: ')\n",
        "edad = int(input('Ingrese su edad: '))\n",
        "alt = float(input('Ingrese su altura: '))\n",
        "print('Hola, {}, tienes {} años y mides {} metros'.format(nom,edad,alt))"
      ],
      "metadata": {
        "colab": {
          "base_uri": "https://localhost:8080/"
        },
        "id": "4xmUX3KOow1Z",
        "outputId": "655ec767-dfed-45c0-84dc-998de0cebc27"
      },
      "execution_count": null,
      "outputs": [
        {
          "output_type": "stream",
          "name": "stdout",
          "text": [
            "Ingrese su nombre: Marcelo\n",
            "Ingrese su edad: 23\n",
            "Ingrese su altura: 1.67\n",
            "Hola, Marcelo, tienes 23 años y mides 1.67 metros\n"
          ]
        }
      ]
    },
    {
      "cell_type": "markdown",
      "source": [
        "# Calculadora con operadores\n",
        "\n",
        "4 - Crea un programa que solicite dos valores numéricos al usuario y luego imprima la suma de ambos valores."
      ],
      "metadata": {
        "id": "iN-IizaIntST"
      }
    },
    {
      "cell_type": "code",
      "source": [
        "var1 = int(input('Primer número: '))\n",
        "var2 = int(input('Segundo número: '))\n",
        "print('La suma de {} y {} es: {}'.format(var1,var2,var1+var2))"
      ],
      "metadata": {
        "colab": {
          "base_uri": "https://localhost:8080/"
        },
        "id": "FDmAdok5oyf5",
        "outputId": "c1bbaa6e-f5be-46e9-9f64-0016d3bdf73d"
      },
      "execution_count": null,
      "outputs": [
        {
          "output_type": "stream",
          "name": "stdout",
          "text": [
            "Primer número: 10\n",
            "Segundo número: 15\n",
            "La suma de 10 y 15 es: 25\n"
          ]
        }
      ]
    },
    {
      "cell_type": "markdown",
      "source": [
        "5 - Crea un programa que solicite tres valores numéricos al usuario y luego imprima la suma de los tres valores.\n"
      ],
      "metadata": {
        "id": "9WjqBq7intVQ"
      }
    },
    {
      "cell_type": "code",
      "source": [
        "a = int(input('1er número: '))\n",
        "b = int(input('2do número: '))\n",
        "c = int(input('3er número: '))\n",
        "sum = a+b+c\n",
        "print('La suma de {},{} y {} es: {}'.format(a,b,c,sum))"
      ],
      "metadata": {
        "colab": {
          "base_uri": "https://localhost:8080/"
        },
        "id": "iMhGoWSzozSm",
        "outputId": "f4bbac1a-c26a-44a5-e83c-bd881270d79f"
      },
      "execution_count": null,
      "outputs": [
        {
          "output_type": "stream",
          "name": "stdout",
          "text": [
            "1er número: 1\n",
            "2do número: 2\n",
            "3er número: 3\n",
            "La suma de 1,2 y 3 es: 6\n"
          ]
        }
      ]
    },
    {
      "cell_type": "markdown",
      "source": [
        "6 - Crea un programa que solicite dos valores numéricos al usuario y luego imprima la resta del primero menos el segundo valor.\n"
      ],
      "metadata": {
        "id": "eXGE9vt-ntYl"
      }
    },
    {
      "cell_type": "code",
      "source": [
        "a = int(input('1er número: '))\n",
        "b = int(input('2do número: '))\n",
        "dif = a-b\n",
        "print('La resta de {} con {} es: {}'.format(a,b,dif))"
      ],
      "metadata": {
        "colab": {
          "base_uri": "https://localhost:8080/"
        },
        "id": "BNsiuphqo0CX",
        "outputId": "aa51ba7a-f123-4e9d-c189-532f0d2d21b3"
      },
      "execution_count": null,
      "outputs": [
        {
          "output_type": "stream",
          "name": "stdout",
          "text": [
            "1er número: 7\n",
            "2do número: 5\n",
            "La resta de 7 con 5 es: 2\n"
          ]
        }
      ]
    },
    {
      "cell_type": "markdown",
      "source": [
        "7 - Crea un programa que solicite dos valores numéricos al usuario y luego imprima la multiplicación de los dos valores."
      ],
      "metadata": {
        "id": "F3Bm38N6ntc1"
      }
    },
    {
      "cell_type": "code",
      "source": [
        "a = int(input('1er número: '))\n",
        "b = int(input('2do número: '))\n",
        "pro = a*b\n",
        "print('El producto de {} con {} es: {}'.format(a,b,pro))"
      ],
      "metadata": {
        "colab": {
          "base_uri": "https://localhost:8080/"
        },
        "id": "S7Ap17keo0sM",
        "outputId": "26bd1132-ed7b-4638-af3c-3ca8f9224c59"
      },
      "execution_count": null,
      "outputs": [
        {
          "output_type": "stream",
          "name": "stdout",
          "text": [
            "1er número: 5\n",
            "2do número: 3\n",
            "El producto de 5 con 3 es: 15\n"
          ]
        }
      ]
    },
    {
      "cell_type": "markdown",
      "source": [
        "8 - Crea un programa que solicite dos valores numéricos, un numerador y un denominador, y realice la división entre los dos valores. Asegúrate de que el valor del denominador no sea igual a 0."
      ],
      "metadata": {
        "id": "DrqYm3Vuntss"
      }
    },
    {
      "cell_type": "code",
      "source": [
        "a = int(input('1er número: '))\n",
        "b = int(input('2do número: '))\n",
        "if b != 0:\n",
        "  div = a/b\n",
        "else:\n",
        "  div = 0\n",
        "print('La división de {} con {} es: {}'.format(a,b,div))"
      ],
      "metadata": {
        "colab": {
          "base_uri": "https://localhost:8080/"
        },
        "id": "pAgkHz_Yo1Sk",
        "outputId": "d388eab6-0e2f-44ca-d5c9-7b3a32d77ada"
      },
      "execution_count": null,
      "outputs": [
        {
          "output_type": "stream",
          "name": "stdout",
          "text": [
            "1er número: 6\n",
            "2do número: 0\n",
            "La división de 6 con 0 es: 0\n"
          ]
        }
      ]
    },
    {
      "cell_type": "markdown",
      "source": [
        "9 - Crea un programa que solicite dos valores numéricos, un operador y una potencia, y realice la exponenciación entre estos dos valores.\n"
      ],
      "metadata": {
        "id": "2DuBSoiynt9s"
      }
    },
    {
      "cell_type": "code",
      "source": [
        "a = int(input('1er número: '))\n",
        "b = int(input('2do número: '))\n",
        "pot = a**b\n",
        "print('La potencia de {} a la {} es: {}'.format(a,b,pot))"
      ],
      "metadata": {
        "colab": {
          "base_uri": "https://localhost:8080/"
        },
        "id": "bCDBe_m7o2VH",
        "outputId": "7440b5d9-5b55-44f3-e3c7-2921482fec69"
      },
      "execution_count": null,
      "outputs": [
        {
          "output_type": "stream",
          "name": "stdout",
          "text": [
            "1er número: 2\n",
            "2do número: 3\n",
            "La potencia de 2 a la 3 es: 8\n"
          ]
        }
      ]
    },
    {
      "cell_type": "markdown",
      "source": [
        "10 - Crea un programa que solicite dos valores numéricos, un numerador y un denominador, y realice la división entera entre los dos valores. Asegúrate de que el valor del denominador no sea igual a 0.\n"
      ],
      "metadata": {
        "id": "Ald_p6GinuAc"
      }
    },
    {
      "cell_type": "code",
      "source": [
        "a = int(input('1er número: '))\n",
        "b = int(input('2do número: '))\n",
        "if b != 0:\n",
        "  div = a/b\n",
        "else:\n",
        "  div = 0\n",
        "print('La división de {} con {} es: {}'.format(a,b,div))"
      ],
      "metadata": {
        "colab": {
          "base_uri": "https://localhost:8080/"
        },
        "id": "S2e7Ew4no3A9",
        "outputId": "962cfd98-2c31-4cc2-b3f4-db06a22ecad3"
      },
      "execution_count": null,
      "outputs": [
        {
          "output_type": "stream",
          "name": "stdout",
          "text": [
            "1er número: 6\n",
            "2do número: 0\n",
            "La división de 6 con 0 es: 0\n"
          ]
        }
      ]
    },
    {
      "cell_type": "markdown",
      "source": [
        "11 - Crea un programa que solicite dos valores numéricos, un numerador y un denominador, y devuelva el resto de la división entre los dos valores. Asegúrate de que el valor del denominador no sea igual a 0."
      ],
      "metadata": {
        "id": "6WKwYOfAnuC_"
      }
    },
    {
      "cell_type": "code",
      "source": [
        "a = int(input('1er número: '))\n",
        "b = int(input('2do número: '))\n",
        "if b != 0:\n",
        "  div = a%b\n",
        "else:\n",
        "  div = 0\n",
        "print('El resto de {} con {} es: {}'.format(a,b,div))"
      ],
      "metadata": {
        "colab": {
          "base_uri": "https://localhost:8080/"
        },
        "id": "NV2pwae1o3h4",
        "outputId": "607f2110-b0b0-4471-8d84-2e28786dfb5d"
      },
      "execution_count": null,
      "outputs": [
        {
          "output_type": "stream",
          "name": "stdout",
          "text": [
            "1er número: 12\n",
            "2do número: 4\n",
            "El resto de 12 con 4 es: 0\n"
          ]
        }
      ]
    },
    {
      "cell_type": "markdown",
      "source": [
        "12 - Crea un código que solicite las 3 notas de un estudiante e imprima el promedio de las notas."
      ],
      "metadata": {
        "id": "nzpRQ6hLnuFp"
      }
    },
    {
      "cell_type": "code",
      "source": [
        "a = int(input('1er nota: '))\n",
        "b = int(input('2do nota: '))\n",
        "c = int(input('3er nota: '))\n",
        "prom = (a+b+c)/3\n",
        "print('El promedio de los números es: %d'%(prom))"
      ],
      "metadata": {
        "colab": {
          "base_uri": "https://localhost:8080/"
        },
        "id": "O4HAkGyGoDmY",
        "outputId": "8e927343-9059-4370-884e-3a2d2f844c63"
      },
      "execution_count": null,
      "outputs": [
        {
          "output_type": "stream",
          "name": "stdout",
          "text": [
            "1er nota: 5\n",
            "2do nota: 3\n",
            "3er nota: 1\n",
            "El promedio de los números es: 3\n"
          ]
        }
      ]
    },
    {
      "cell_type": "markdown",
      "source": [
        "13 - Crea un código que calcule e imprima el promedio ponderado de los números 5, 12, 20 y 15 con pesos respectivamente iguales a 1, 2, 3 y 4."
      ],
      "metadata": {
        "id": "4XMQwIFhoDxm"
      }
    },
    {
      "cell_type": "code",
      "source": [
        "num1 = 5\n",
        "pes1 = 1\n",
        "num2 = 12\n",
        "pes2 = 2\n",
        "num3 = 20\n",
        "pes3 = 3\n",
        "num4 = 15\n",
        "pes4 = 4\n",
        "prom_ponderado = (num1*pes1+num2*pes2+num3*pes3+num4*pes4)/(num1+num2+num3+num4)\n",
        "print('El promedio ponderado es: %.2f'%(prom_ponderado))"
      ],
      "metadata": {
        "colab": {
          "base_uri": "https://localhost:8080/"
        },
        "id": "xXgY8Lfco4Yk",
        "outputId": "8cacca9f-bb15-4db9-86e1-9b9b76764429"
      },
      "execution_count": null,
      "outputs": [
        {
          "output_type": "stream",
          "name": "stdout",
          "text": [
            "El promedio ponderado es: 2.87\n"
          ]
        }
      ]
    },
    {
      "cell_type": "markdown",
      "source": [
        "# Editando textos\n",
        "\n",
        "14 - Crea una variable llamada \"frase\" y asígnale una cadena de texto de tu elección. Luego, imprime la frase en pantalla.\n"
      ],
      "metadata": {
        "id": "pDFZc2W0oD7e"
      }
    },
    {
      "cell_type": "code",
      "source": [
        "frase = 'Hola tengo sueño'\n",
        "print(f'Esta es mi frase \"{frase}\"')"
      ],
      "metadata": {
        "colab": {
          "base_uri": "https://localhost:8080/"
        },
        "id": "HmHlelEjo6Bs",
        "outputId": "b3eb815c-3c4d-4e59-cf35-c44a3b251f3d"
      },
      "execution_count": null,
      "outputs": [
        {
          "output_type": "stream",
          "name": "stdout",
          "text": [
            "Esta es mi frase \"Hola tengo sueño\"\n"
          ]
        }
      ]
    },
    {
      "cell_type": "markdown",
      "source": [
        "15 - Crea un código que solicite una frase y luego imprima la frase en pantalla."
      ],
      "metadata": {
        "id": "wPYw8Fn3oEkF"
      }
    },
    {
      "cell_type": "code",
      "source": [
        "frase = input('Ingresa una frase:')\n",
        "print(f'Esta es mi frase \"{frase}\"')"
      ],
      "metadata": {
        "colab": {
          "base_uri": "https://localhost:8080/"
        },
        "id": "Fecbxwrio7Eu",
        "outputId": "5aa5a291-cc7a-4088-e4cd-6559b20aaf5a"
      },
      "execution_count": null,
      "outputs": [
        {
          "output_type": "stream",
          "name": "stdout",
          "text": [
            "Ingresa una frase:Quiero comer\n",
            "Esta es mi frase \"Quiero comer\"\n"
          ]
        }
      ]
    },
    {
      "cell_type": "markdown",
      "source": [
        "16 - Crea un código que solicite una frase al usuario y luego imprima la misma frase ingresada pero en mayúsculas.\n"
      ],
      "metadata": {
        "id": "q50xUZRknuIM"
      }
    },
    {
      "cell_type": "code",
      "source": [
        "frase = input('Ingresa una frase:')\n",
        "print(f'Esta es tu frase \"{frase.upper()}\"')"
      ],
      "metadata": {
        "colab": {
          "base_uri": "https://localhost:8080/"
        },
        "id": "cs0ewlhno7j1",
        "outputId": "9a8db900-970e-45bb-838d-4d720f284842"
      },
      "execution_count": null,
      "outputs": [
        {
          "output_type": "stream",
          "name": "stdout",
          "text": [
            "Ingresa una frase:Soy Iroman\n",
            "Esta es tu frase \"SOY IROMAN\"\n"
          ]
        }
      ]
    },
    {
      "cell_type": "markdown",
      "source": [
        "17 - Crea un código que solicite una frase al usuario y luego imprima la misma frase ingresada pero en minúsculas."
      ],
      "metadata": {
        "id": "q1PKvubloOTG"
      }
    },
    {
      "cell_type": "code",
      "source": [
        "frase = input('Ingresa una frase:')\n",
        "print(f'Esta es tu frase \"{frase.lower()}\"')"
      ],
      "metadata": {
        "colab": {
          "base_uri": "https://localhost:8080/"
        },
        "id": "z8xUeoS_o7-1",
        "outputId": "cb9fe1de-ff71-4603-990f-e359c8c99eed"
      },
      "execution_count": null,
      "outputs": [
        {
          "output_type": "stream",
          "name": "stdout",
          "text": [
            "Ingresa una frase:Soy peter parker\n",
            "Esta es tu frase \"soy peter parker\"\n"
          ]
        }
      ]
    },
    {
      "cell_type": "markdown",
      "source": [
        "18 - Crea una variable llamada \"frase\" y asígnale una cadena de texto de tu elección. Luego, imprime la frase sin espacios en blanco al principio y al final."
      ],
      "metadata": {
        "id": "XId1Zk5XoOm9"
      }
    },
    {
      "cell_type": "code",
      "source": [
        "frase = '  Hola tengo sueño '\n",
        "print(f'Esta es mi frase \"{frase.strip()}\"')"
      ],
      "metadata": {
        "colab": {
          "base_uri": "https://localhost:8080/"
        },
        "id": "-AlXQb6io8e5",
        "outputId": "d473ce85-2d12-4991-a2d8-a68b813be55e"
      },
      "execution_count": null,
      "outputs": [
        {
          "output_type": "stream",
          "name": "stdout",
          "text": [
            "Esta es mi frase \"Hola tengo sueño\"\n"
          ]
        }
      ]
    },
    {
      "cell_type": "markdown",
      "source": [
        "19 - Crea un código que solicite una frase al usuario y luego imprima la misma frase sin espacios en blanco al principio y al final.\n"
      ],
      "metadata": {
        "id": "RyScUAu1oOpw"
      }
    },
    {
      "cell_type": "code",
      "source": [
        "frase = input('Ingresa tu frase: ')\n",
        "print(f'Esta es tu frase \"{frase.strip()}\"')"
      ],
      "metadata": {
        "colab": {
          "base_uri": "https://localhost:8080/"
        },
        "id": "6p1HwQ9Uo84-",
        "outputId": "876b852c-9575-4f30-b58e-7bc087bfc6c3"
      },
      "execution_count": null,
      "outputs": [
        {
          "output_type": "stream",
          "name": "stdout",
          "text": [
            "Ingresa tu frase:   La chica de dollarcity xdd \n",
            "Esta es tu frase \"La chica de dollarcity xdd\"\n"
          ]
        }
      ]
    },
    {
      "cell_type": "markdown",
      "source": [
        "20 - Crea un código que solicite una frase al usuario y luego imprima la misma frase sin espacios en blanco al principio y al final, además de convertirla a minúsculas.\n"
      ],
      "metadata": {
        "id": "rEbFKQINoOsw"
      }
    },
    {
      "cell_type": "code",
      "source": [
        "frase = input('Ingresa tu frase: ')\n",
        "print(f'Esta es tu frase \"{frase.strip().lower()}\"')"
      ],
      "metadata": {
        "colab": {
          "base_uri": "https://localhost:8080/"
        },
        "id": "B4w3NT2Zo91v",
        "outputId": "6f5eb9dd-9133-4268-d236-453845b39180"
      },
      "execution_count": null,
      "outputs": [
        {
          "output_type": "stream",
          "name": "stdout",
          "text": [
            "Ingresa tu frase:    Hakuna Matata \n",
            "Esta es tu frase \"hakuna matata\"\n"
          ]
        }
      ]
    },
    {
      "cell_type": "markdown",
      "source": [
        "21 - Crea un código que solicite una frase al usuario y luego imprima la misma frase con todas las vocales \"e\" reemplazadas por la letra \"f\"."
      ],
      "metadata": {
        "id": "TjbKzEnPoOv3"
      }
    },
    {
      "cell_type": "code",
      "source": [
        "frase = input('Ingresa tu frase: ')\n",
        "print('Esta es tu frase \"{}\"'.format(frase.replace('e','f')))"
      ],
      "metadata": {
        "colab": {
          "base_uri": "https://localhost:8080/"
        },
        "id": "IHrfiQVyo-XG",
        "outputId": "a9f69e4f-dbfb-48fe-a3ee-1c5c5466f802"
      },
      "execution_count": null,
      "outputs": [
        {
          "output_type": "stream",
          "name": "stdout",
          "text": [
            "Ingresa tu frase: El perro trae el omitrix\n",
            "Esta es tu frase \"El pfrro traf fl omitrix\"\n"
          ]
        }
      ]
    },
    {
      "cell_type": "markdown",
      "source": [
        "22 - Crea un código que solicite una frase al usuario y luego imprima la misma frase con todas las vocales \"a\" reemplazadas por el carácter \"@\".\n"
      ],
      "metadata": {
        "id": "UMSJ04u0oOy2"
      }
    },
    {
      "cell_type": "code",
      "source": [
        "frase = input('Ingresa tu frase: ')\n",
        "print('Esta es tu frase \"{}\"'.format(frase.replace('a','@')))"
      ],
      "metadata": {
        "colab": {
          "base_uri": "https://localhost:8080/"
        },
        "id": "uBLxFcsso-zJ",
        "outputId": "ef839497-8d53-466b-bd4a-4554165cc4cf"
      },
      "execution_count": null,
      "outputs": [
        {
          "output_type": "stream",
          "name": "stdout",
          "text": [
            "Ingresa tu frase: Quiero comer pizzaa\n",
            "Esta es tu frase \"Quiero comer pizz@@\"\n"
          ]
        }
      ]
    },
    {
      "cell_type": "markdown",
      "source": [
        "23 - Crea un código que solicite una frase al usuario y luego imprima la misma frase con todas las consonantes \"s\" reemplazadas por el carácter \"$\"."
      ],
      "metadata": {
        "id": "PW7WrfdqoO1c"
      }
    },
    {
      "cell_type": "code",
      "source": [
        "frase = input('Ingresa tu frase: ')\n",
        "print('Esta es tu frase \"{}\"'.format(frase.replace('s','$')))"
      ],
      "metadata": {
        "colab": {
          "base_uri": "https://localhost:8080/"
        },
        "id": "UR-vNP2Yo_iX",
        "outputId": "a7db66bf-d172-4a00-84fb-ef814067be4a"
      },
      "execution_count": null,
      "outputs": [
        {
          "output_type": "stream",
          "name": "stdout",
          "text": [
            "Ingresa tu frase: Casi ingreso una frase sin S\n",
            "Esta es tu frase \"Ca$i ingre$o una fra$e $in S\"\n"
          ]
        }
      ]
    },
    {
      "cell_type": "markdown",
      "source": [
        "# Entrenando la programación\n",
        "\n",
        "1 - Escribe un programa que pida a la persona usuaria que proporcione dos números y muestre el número más grande."
      ],
      "metadata": {
        "id": "FF0Ne_U3lwkN"
      }
    },
    {
      "cell_type": "code",
      "source": [
        "a = int(input('1er número: '))\n",
        "b = int(input('2do número: '))\n",
        "if a >= b:\n",
        "  print('El número mayor es: {}'.format(a))\n",
        "else:\n",
        "  print('El número mayor es: {}'.format(b))"
      ],
      "metadata": {
        "id": "8ODG1Mx9m5D-",
        "outputId": "b927a524-f8f6-4d66-e472-1b3a6d9e9e5e",
        "colab": {
          "base_uri": "https://localhost:8080/"
        }
      },
      "execution_count": null,
      "outputs": [
        {
          "output_type": "stream",
          "name": "stdout",
          "text": [
            "1er número: 20\n",
            "2do número: 3\n",
            "El número mayor es: 20\n"
          ]
        }
      ]
    },
    {
      "cell_type": "markdown",
      "source": [
        "2 - Escribe un programa que solicite el porcentaje de crecimiento de producción de una empresa e informe si hubo un crecimiento (porcentaje positivo) o una disminución (porcentaje negativo)."
      ],
      "metadata": {
        "id": "J7IBCB6PmG7J"
      }
    },
    {
      "cell_type": "code",
      "source": [
        "x = float(input('Ingrese porcentaje de crecimietn(%): '))\n",
        "if x >= 0:\n",
        "  print('Hubo un CRECIMIENTO DE PRODUCCCIÓN')\n",
        "else:\n",
        "  print('Hubo una DISMINUCIÓN DE PRODUCCCIÓN')"
      ],
      "metadata": {
        "id": "BBBYDa3Gm5zo",
        "outputId": "8c4d9bfc-2ab5-44d1-8866-108e90d1706f",
        "colab": {
          "base_uri": "https://localhost:8080/"
        }
      },
      "execution_count": null,
      "outputs": [
        {
          "output_type": "stream",
          "name": "stdout",
          "text": [
            "Ingrese porcentaje de crecimietn(%): -9.2\n",
            "Hubo una DISMINUCIÓN DE PRODUCCCIÓN\n"
          ]
        }
      ]
    },
    {
      "cell_type": "markdown",
      "source": [
        "3 - Escribe un programa que determine si una letra proporcionada por la persona usuaria es una vocal o una consonante."
      ],
      "metadata": {
        "id": "trI74MYamHRf"
      }
    },
    {
      "cell_type": "code",
      "source": [
        "x = input('Ingrese una letra: ')\n",
        "if x == 'a' or x == 'e' or x=='i' or x == 'o' or x == 'u':\n",
        "  print('La letra {} es una VOCAL'.format(x))\n",
        "else:\n",
        "  print('La letra {} es una CONSONANTE'.format(x))"
      ],
      "metadata": {
        "id": "TMydN_Lwm6oU",
        "outputId": "ed7c3d12-4716-4e7d-8cdd-68fa93d93659",
        "colab": {
          "base_uri": "https://localhost:8080/"
        }
      },
      "execution_count": null,
      "outputs": [
        {
          "output_type": "stream",
          "name": "stdout",
          "text": [
            "Ingrese una letra: w\n",
            "La letra w es una CONSONANTE\n"
          ]
        }
      ]
    },
    {
      "cell_type": "markdown",
      "source": [
        "4 - Escribe un programa que lea valores promedio de precios de un modelo de automóvil durante 3 años consecutivos y muestre el valor más alto y más bajo entre esos tres años."
      ],
      "metadata": {
        "id": "3Fdoy2MrmHVh"
      }
    },
    {
      "cell_type": "code",
      "source": [
        "p1 = int(input('1er número: '))\n",
        "p2 = int(input('2do número: '))\n",
        "p3 = int(input('3er número: '))\n",
        "mayor = p1\n",
        "menor = 0\n",
        "if p2 >= p1 and p2 >= p3:\n",
        "  mayor = p2\n",
        "  if p1 >= p3:\n",
        "    menor = p3\n",
        "  else:\n",
        "    menor = p1\n",
        "elif p3>= p1 and p3 >= p2:\n",
        "  mayor = p3\n",
        "  if p2 >= p1:\n",
        "    menor = p1\n",
        "  else:\n",
        "    menor = p2\n",
        "print('El promedio mayor es: {}'.format(mayor))\n",
        "print('El promedio menor es: {}'.format(menor))"
      ],
      "metadata": {
        "id": "N0u-zTjom7Mp",
        "outputId": "440f01fb-7bdd-46c3-ae6a-272a03d33868",
        "colab": {
          "base_uri": "https://localhost:8080/"
        }
      },
      "execution_count": null,
      "outputs": [
        {
          "output_type": "stream",
          "name": "stdout",
          "text": [
            "1er número: 351\n",
            "2do número: 352\n",
            "3er número: 52\n",
            "El promedio mayor es: 352\n",
            "El promedio menor es: 52\n"
          ]
        }
      ]
    },
    {
      "cell_type": "markdown",
      "source": [
        "5 - Escribe un programa que pregunte sobre el precio de tres productos e indique cuál es el producto más barato para comprar."
      ],
      "metadata": {
        "id": "8-2zih_hmHYg"
      }
    },
    {
      "cell_type": "code",
      "source": [
        "p1 = int(input('1er precio: '))\n",
        "p2 = int(input('2do precio: '))\n",
        "p3 = int(input('3er precio: '))\n",
        "menor = p1\n",
        "if p2 <= p1 and p2 <= p3:\n",
        "  menor = p2\n",
        "elif p3<= p1 and p3 <= p2:\n",
        "  menor = p3\n",
        "\n",
        "print('El precio menor es: {}'.format(menor))"
      ],
      "metadata": {
        "id": "xzgBmBD8m7yc",
        "outputId": "32cc3da3-aec4-4f2b-a410-f50412de1eff",
        "colab": {
          "base_uri": "https://localhost:8080/"
        }
      },
      "execution_count": null,
      "outputs": [
        {
          "output_type": "stream",
          "name": "stdout",
          "text": [
            "1er precio: 51\n",
            "2do precio: 5\n",
            "3er precio: 512\n",
            "El precio menor es: 5\n"
          ]
        }
      ]
    },
    {
      "cell_type": "markdown",
      "source": [
        "6 - Escribe un programa que lea tres números y los muestre en orden descendente."
      ],
      "metadata": {
        "id": "eAGysxC6mHcG"
      }
    },
    {
      "cell_type": "code",
      "source": [
        "p1 = int(input('1er número: '))\n",
        "p2 = int(input('2do número: '))\n",
        "p3 = int(input('3er número: '))\n",
        "\n",
        "if p1 >= p2 and p1 >= p3:\n",
        "  mayor = p1\n",
        "  if p2 >= p3:\n",
        "    medio = p2\n",
        "    menor = p3\n",
        "  else:\n",
        "    medio = p3\n",
        "    menor = p2\n",
        "elif p2 >= p1 and p2 >= p3:\n",
        "  mayor = p2\n",
        "  if p1>= p3:\n",
        "    medio = p1\n",
        "    menor = p3\n",
        "  else:\n",
        "    medio = p3\n",
        "    menor = p1\n",
        "else:\n",
        "  mayor = p3\n",
        "  if p1>= p2:\n",
        "    medio = p1\n",
        "    menor = p2\n",
        "  else:\n",
        "    medio = p2\n",
        "    menor = p1\n",
        "\n",
        "print('Los números ordenados en orden descendente: {}, {}, {}'.format(mayor,medio,menor))"
      ],
      "metadata": {
        "id": "qjqDNaH8m8ko",
        "outputId": "0abd6883-2913-4336-8bf7-e0a0d5692132",
        "colab": {
          "base_uri": "https://localhost:8080/"
        }
      },
      "execution_count": null,
      "outputs": [
        {
          "output_type": "stream",
          "name": "stdout",
          "text": [
            "1er número: 85\n",
            "2do número: 43\n",
            "3er número: 765\n",
            "Los números ordenados en orden descendente: 765, 85, 43\n"
          ]
        }
      ]
    },
    {
      "cell_type": "markdown",
      "source": [
        "7 -Escribe un programa que pregunte en qué turno estudia la persona usuaria (\"mañana\", \"tarde\" o \"noche\") y muestre el mensaje \"¡Buenos Días!\", \"¡Buenas Tardes!\", \"¡Buenas Noches!\" o \"Valor Inválido!\", según el caso."
      ],
      "metadata": {
        "id": "iNx0jCDjmHiR"
      }
    },
    {
      "cell_type": "code",
      "source": [
        "turno = input('Ingrese turno: ')\n",
        "if turno == 'mañana':\n",
        "  print('Buenos Días!')\n",
        "elif turno == 'tarde':\n",
        "  print('Buenos Tardes!')\n",
        "elif turno == 'noche':\n",
        "  print('Buenos Noches!')\n",
        "else:\n",
        "  print('Valor Inválido')"
      ],
      "metadata": {
        "id": "vkafP-0vm9GZ",
        "outputId": "4eb32708-a6df-47db-bd1c-595f362856b4",
        "colab": {
          "base_uri": "https://localhost:8080/"
        }
      },
      "execution_count": null,
      "outputs": [
        {
          "output_type": "stream",
          "name": "stdout",
          "text": [
            "Ingrese turno: tarde\n",
            "Buenos Tardes!\n"
          ]
        }
      ]
    },
    {
      "cell_type": "markdown",
      "source": [
        "8 - Escribe un programa que solicite un número entero a la persona usuaria y determine si es par o impar. Pista: Puedes usar el operador módulo (%)."
      ],
      "metadata": {
        "id": "vaIALtnBmZdV"
      }
    },
    {
      "cell_type": "code",
      "source": [
        "num = int(input('Ingrese un número: '))\n",
        "if num%2 == 0:\n",
        "  print('El número es par')\n",
        "else:\n",
        "  print('El número es impar')"
      ],
      "metadata": {
        "id": "BanBBT59m9mQ",
        "outputId": "b04cbeb3-9561-4a2d-cfa1-c195c0ca269a",
        "colab": {
          "base_uri": "https://localhost:8080/"
        }
      },
      "execution_count": null,
      "outputs": [
        {
          "output_type": "stream",
          "name": "stdout",
          "text": [
            "Ingrese un número: 9\n",
            "El número es impar\n"
          ]
        }
      ]
    },
    {
      "cell_type": "markdown",
      "source": [
        "9 - Escribe un programa que pida un número a la persona usuaria y le informe si es entero o decimal."
      ],
      "metadata": {
        "id": "OvYRUe8_mZlv"
      }
    },
    {
      "cell_type": "code",
      "source": [
        "print(int(5.2))"
      ],
      "metadata": {
        "id": "Mx3Tp3RvzEDU",
        "outputId": "5592d2d5-24d5-48ba-9596-d8193f070e8e",
        "colab": {
          "base_uri": "https://localhost:8080/"
        }
      },
      "execution_count": null,
      "outputs": [
        {
          "output_type": "stream",
          "name": "stdout",
          "text": [
            "5\n"
          ]
        }
      ]
    },
    {
      "cell_type": "code",
      "source": [
        "num = float(input('Ingrese un número: '))\n",
        "if num== int(num):\n",
        "    print(\"Es un número entero.\")\n",
        "else:\n",
        "    print(\"Es un número decimal.\")"
      ],
      "metadata": {
        "id": "ijw1D5pkm-Xd",
        "outputId": "3a785eea-c5d2-42e7-e3c9-7bb6c974b794",
        "colab": {
          "base_uri": "https://localhost:8080/"
        }
      },
      "execution_count": null,
      "outputs": [
        {
          "output_type": "stream",
          "name": "stdout",
          "text": [
            "Ingrese un número: 6\n",
            "Es un número entero.\n"
          ]
        }
      ]
    },
    {
      "cell_type": "markdown",
      "source": [
        "# Momento de los proyectos\n",
        "\n",
        "10 - Un programa debe ser escrito para leer dos números y luego preguntar a la persona usuaria qué operación desea realizar. El resultado de la operación debe incluir información sobre el número, si es par o impar, positivo o negativo, e entero o decimal."
      ],
      "metadata": {
        "id": "e_RJFT6EmZoZ"
      }
    },
    {
      "cell_type": "code",
      "source": [
        "n1 = float(input('Ingresa 1er número: '))\n",
        "n2 = float(input('Ingresa 2do número: '))\n",
        "op = input('Ingrese operación a realizar (s,r,m,d): ')\n",
        "if op =='s':\n",
        "  res = n1+n2\n",
        "elif op == 'r':\n",
        "  res = n1-n2\n",
        "elif op == 'm':\n",
        "  res = n1*n2\n",
        "else:\n",
        "  res = n1/n2\n",
        "print(f'El resultado es {res}')\n",
        "if res%2 == 0:\n",
        "  print('El resultado es PAR')\n",
        "else:\n",
        "  print('El resultado es IMPAR')\n",
        "if res >= 0:\n",
        "  print('El resultado es POSITIVO')\n",
        "else:\n",
        "  print('El resultado es NEGATIVO')\n",
        "if res == int(res):\n",
        "  print('El resultado es entero')\n",
        "else:\n",
        "  print('El resultado es decimal')"
      ],
      "metadata": {
        "id": "StlvS5DDm-4L",
        "outputId": "49b9620c-e13c-4c19-f70b-d17397869d17",
        "colab": {
          "base_uri": "https://localhost:8080/"
        }
      },
      "execution_count": null,
      "outputs": [
        {
          "output_type": "stream",
          "name": "stdout",
          "text": [
            "Ingresa 1er número: 5\n",
            "Ingresa 2do número: 1.5\n",
            "Ingrese operación a realizar (s,r,m,d): m\n",
            "El resultado es 7.5\n",
            "El resultado es IMPAR\n",
            "El resultado es POSITIVO\n",
            "El resultado es decimal\n"
          ]
        }
      ]
    },
    {
      "cell_type": "markdown",
      "source": [
        "11 - Escribe un programa que pida a la persona usuaria tres números que representan los lados de un triángulo. El programa debe informar si los valores pueden utilizarse para formar un triángulo y, en caso afirmativo, si es equilátero, isósceles o escaleno. Ten en cuenta algunas sugerencias:\n",
        "\n",
        "Tres lados forman un triángulo cuando la suma de cualesquiera dos lados es mayor que el tercero;\n",
        "Triángulo Equilátero: tres lados iguales;\n",
        "Triángulo Isósceles: dos lados iguales;\n",
        "Triángulo Escaleno: tres lados diferentes."
      ],
      "metadata": {
        "id": "3c76cqfmmZra"
      }
    },
    {
      "cell_type": "code",
      "source": [
        "a = int(input('Ingrese 1er lado: '))\n",
        "b = int(input('Ingrese 2do lado: '))\n",
        "c = int(input('Ingrese 3er lado: '))\n",
        "if a<b+c or b<a+c or c<a+b:\n",
        "  if a == b and b == c and c == a:\n",
        "    tip = 'Equilátero'\n",
        "  elif a == b or b == c or a == c:\n",
        "    tip = 'Isósceles'\n",
        "  else:\n",
        "    tip = 'Escaleno'\n",
        "  print(f'El triángulo es de tipo {tip}')\n",
        "else:\n",
        "  print('No se puede formar un triángulo')\n"
      ],
      "metadata": {
        "id": "8H3VvVyym_ib",
        "outputId": "4c95ab41-bfc2-4178-d701-2c187e9cbb55",
        "colab": {
          "base_uri": "https://localhost:8080/"
        }
      },
      "execution_count": null,
      "outputs": [
        {
          "output_type": "stream",
          "name": "stdout",
          "text": [
            "Ingrese 1er lado: 0\n",
            "Ingrese 2do lado: 0\n",
            "Ingrese 3er lado: 0\n",
            "No se puede formar un triángulo\n"
          ]
        }
      ]
    },
    {
      "cell_type": "markdown",
      "source": [
        "12 - Un establecimiento está vendiendo combustibles con descuentos variables. Para el etanol, si la cantidad comprada es de hasta 15 litros, el descuento será del 2% por litro. En caso contrario, será del 4% por litro. Para el diésel, si la cantidad comprada es de hasta 15 litros, el descuento será del 3% por litro. En caso contrario, será del 5% por litro. El precio por litro de diésel es de R$ 2,00 y el precio por litro de etanol es de R$ 1,70. Escribe un programa que lea la cantidad de litros vendidos y el tipo de combustible (E para etanol y D para diésel) y calcule el valor a pagar por el cliente. Ten en cuenta algunas sugerencias:\n",
        "\n",
        "El valor del descuento será el producto del precio por litro, la cantidad de litros y el valor del descuento.\n",
        "El valor a pagar por un cliente será el resultado de la multiplicación del precio por litro por la cantidad de litros menos el valor del descuento resultante del cálculo."
      ],
      "metadata": {
        "id": "VD2PZIGnmaPx"
      }
    },
    {
      "cell_type": "code",
      "source": [
        "l = float(input('Ingrese litros: '))\n",
        "tip = input('Ingrese tipo de combustible (E/D):')\n",
        "if tip == 'E':\n",
        "  prec = 2\n",
        "  if l <= 15:\n",
        "    desc = 0.02\n",
        "  else:\n",
        "    desc = 0.04\n",
        "\n",
        "elif tip == 'D':\n",
        "  prec = 1.7\n",
        "  if l <= 15:\n",
        "    desc = 0.03\n",
        "  else:\n",
        "    desc = 0.05\n",
        "else:\n",
        "  print('Tipo de combustible inválido')\n",
        "pagar = prec*l-prec*l*desc\n",
        "print('Usted compro {} litros de {} con un descuento de {} %, total a pagar: {}'.format(l,tip,desc*100,pagar))"
      ],
      "metadata": {
        "id": "dUPh-W9unAKF",
        "outputId": "31108301-d67e-4eda-c762-603fcedde367",
        "colab": {
          "base_uri": "https://localhost:8080/"
        }
      },
      "execution_count": null,
      "outputs": [
        {
          "output_type": "stream",
          "name": "stdout",
          "text": [
            "Ingrese litros: 30\n",
            "Ingrese tipo de combustible (E/D):D\n",
            "Usted compro 30.0 litros de D con un descuento de 5.0 %, total a pagar: 48.45\n"
          ]
        }
      ]
    },
    {
      "cell_type": "markdown",
      "source": [
        "13 - En una empresa de venta de bienes raíces, debes crear un código que analice los datos de ventas anuales para ayudar a la dirección en la toma de decisiones. El código debe recopilar los datos de cantidad de ventas durante los años 2022 y 2023 y calcular la variación porcentual. A partir del valor de la variación, se deben proporcionar las siguientes sugerencias:\n",
        "\n",
        "Para una variación superior al 20%: bonificación para el equipo de ventas.\n",
        "Para una variación entre el 2% y el 20%: pequeña bonificación para el equipo de ventas.\n",
        "Para una variación entre el 2% y el -10%: planificación de políticas de incentivo a las ventas.\n",
        "Para bonificaciones inferiores al -10%: recorte de gastos."
      ],
      "metadata": {
        "id": "Klh8CdxrmoyZ"
      }
    },
    {
      "cell_type": "code",
      "source": [
        "year1 = int(input('Venta anual del 2022: '))\n",
        "year2 = int(input('Venta anual del 2023: '))\n",
        "var = ((year2-year1)/year1)*100\n",
        "if var > 20:\n",
        "  est = 'Bonificación'\n",
        "elif var > 2:\n",
        "  est = 'Pequeña bonificación'\n",
        "elif var > -10:\n",
        "  est = 'Planificación de políticas de incentivo'\n",
        "else:\n",
        "  est = 'Recorte de gastos'\n",
        "print('El estado del equipo de ventas es: '+est)"
      ],
      "metadata": {
        "id": "kcjE5uFDnAx_",
        "outputId": "80e46f37-102a-4d9e-9193-6edb7059c4ac",
        "colab": {
          "base_uri": "https://localhost:8080/"
        }
      },
      "execution_count": null,
      "outputs": [
        {
          "output_type": "stream",
          "name": "stdout",
          "text": [
            "Venta anual del 2022: 100\n",
            "Venta anual del 2023: 99\n",
            "El estado del equipo de ventas es: Planificación de políticas de incentivo\n"
          ]
        }
      ]
    },
    {
      "cell_type": "markdown",
      "source": [
        "# Entrenando la programación\n",
        "\n",
        "1 - Escribe un programa que solicite dos números enteros e imprima todos los números enteros entre ellos."
      ],
      "metadata": {
        "id": "d2kJeGeLa5XU"
      }
    },
    {
      "cell_type": "code",
      "source": [],
      "metadata": {
        "id": "GSaGKblcbWvV"
      },
      "execution_count": null,
      "outputs": []
    },
    {
      "cell_type": "markdown",
      "source": [
        "2 - Escribe un programa para calcular cuántos días tomará que la colonia de una bacteria A supere o iguale a la colonia de una bacteria B, basado en tasas de crecimiento del 3% y 1.5%, respectivamente. Supón que la colonia A comienza con 4 elementos y B con 10."
      ],
      "metadata": {
        "id": "9EgChsBla8Nq"
      }
    },
    {
      "cell_type": "code",
      "source": [],
      "metadata": {
        "id": "r7PZLdE8bXNM"
      },
      "execution_count": null,
      "outputs": []
    },
    {
      "cell_type": "markdown",
      "source": [
        "3 - Para procesar una cantidad de 15 datos de evaluaciones de usuarios de un servicio de la empresa, necesitamos verificar si las calificaciones son válidas. Por lo tanto, escribe un programa que recibirá calificaciones del 0 al 5 y verificará si son valores válidos. Si se ingresa una calificación superior a 5 o inferior a 0, se repetirá hasta que el usuario ingrese un valor válido."
      ],
      "metadata": {
        "id": "_qxwXORma830"
      }
    },
    {
      "cell_type": "code",
      "source": [],
      "metadata": {
        "id": "_raET_MYbXxB"
      },
      "execution_count": null,
      "outputs": []
    },
    {
      "cell_type": "markdown",
      "source": [
        "4 - Desarrolla un programa que lea un conjunto indefinido de temperaturas en grados Celsius y calcule su promedio. La lectura debe detenerse al ingresar el valor -273°C."
      ],
      "metadata": {
        "id": "jvl9J4f6a86T"
      }
    },
    {
      "cell_type": "code",
      "source": [],
      "metadata": {
        "id": "UrTTtK3tbYnd"
      },
      "execution_count": null,
      "outputs": []
    },
    {
      "cell_type": "markdown",
      "source": [
        "5 - Escribe un programa que calcule el factorial de un número entero proporcionado por el usuario. Recuerda que el factorial de un número entero es el producto de ese número por todos sus antecesores hasta llegar al número 1. Por ejemplo, el factorial de 5 es 5 x 4 x 3 x 2 x 1 = 120."
      ],
      "metadata": {
        "id": "3ZTwJ8yIa89K"
      }
    },
    {
      "cell_type": "code",
      "source": [],
      "metadata": {
        "id": "-ZqxrDy2bZNU"
      },
      "execution_count": null,
      "outputs": []
    },
    {
      "cell_type": "markdown",
      "source": [
        "# Momento de los proyectos\n",
        "\n",
        "6 - Escribe un programa que genere la tabla de multiplicar de un número entero del 1 al 10, según la elección del usuario. Como ejemplo, para el número 2, la tabla de multiplicar debe mostrarse en el siguiente formato:\n",
        "\n",
        "Tabla de multiplicar del 2:\n",
        "2 x 1 = 2\n",
        "2 x 2 = 4\n",
        "[...]\n",
        "2 x 10 = 20"
      ],
      "metadata": {
        "id": "KsFtYTHsa9Cx"
      }
    },
    {
      "cell_type": "code",
      "source": [],
      "metadata": {
        "id": "JVE2ueOkbZyV"
      },
      "execution_count": null,
      "outputs": []
    },
    {
      "cell_type": "markdown",
      "source": [
        "7 - Los números primos tienen diversas aplicaciones en Ciencia de Datos, como en criptografía y seguridad. Un número primo es aquel que es divisible solo por sí mismo y por 1. Por lo tanto, crea un programa que solicite un número entero y determine si es un número primo o no."
      ],
      "metadata": {
        "id": "Dw8s0bQma9YP"
      }
    },
    {
      "cell_type": "code",
      "source": [],
      "metadata": {
        "id": "voQXCEb-bbka"
      },
      "execution_count": null,
      "outputs": []
    },
    {
      "cell_type": "markdown",
      "source": [
        "8 - Vamos a comprender la distribución de edades de los pensionistas de una empresa de seguros. Escribe un programa que lea las edades de una cantidad no informada de clientes y muestre la distribución en los intervalos [0-25], [26-50], [51-75] y [76-100]. La entrada de datos se detendrá al ingresar un número negativo."
      ],
      "metadata": {
        "id": "sxcibkPSa9ks"
      }
    },
    {
      "cell_type": "code",
      "source": [],
      "metadata": {
        "id": "rQdG6zaHbcSX"
      },
      "execution_count": null,
      "outputs": []
    },
    {
      "cell_type": "markdown",
      "source": [
        "9 - En una elección para la gerencia de una empresa con 20 empleados, hay cuatro candidatos. Escribe un programa que calcule al ganador de la elección. La votación se realizó de la siguiente manera:\n",
        "\n",
        "Cada empleado votó por uno de los cuatro candidatos (representados por los números 1, 2, 3 y 4).\n",
        "\n",
        "También se contaron los votos nulos (representados por el número 5) y los votos en blanco (representados por el número 6).\n",
        "\n",
        "Al final de la votación, el programa debe mostrar el número total de votos para cada candidato, los votos nulos y los votos en blanco. Además, debe calcular y mostrar el porcentaje de votos nulos con respecto al total de votos y el porcentaje de votos en blanco con respecto al total de votos."
      ],
      "metadata": {
        "id": "mLHkgqtfbP1Y"
      }
    },
    {
      "cell_type": "code",
      "source": [],
      "metadata": {
        "id": "QQfeA8Sqbcz8"
      },
      "execution_count": null,
      "outputs": []
    }
  ]
}