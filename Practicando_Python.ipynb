{
  "nbformat": 4,
  "nbformat_minor": 0,
  "metadata": {
    "colab": {
      "provenance": [],
      "authorship_tag": "ABX9TyMksRJHK5YoUIQbw3aEaNfA",
      "include_colab_link": true
    },
    "kernelspec": {
      "name": "python3",
      "display_name": "Python 3"
    },
    "language_info": {
      "name": "python"
    }
  },
  "cells": [
    {
      "cell_type": "markdown",
      "metadata": {
        "id": "view-in-github",
        "colab_type": "text"
      },
      "source": [
        "<a href=\"https://colab.research.google.com/github/Marcelo-jmd/PracticandoPy/blob/main/Practicando_Python.ipynb\" target=\"_parent\"><img src=\"https://colab.research.google.com/assets/colab-badge.svg\" alt=\"Open In Colab\"/></a>"
      ]
    },
    {
      "cell_type": "markdown",
      "source": [
        "<h1>Recopilación y muestra de datos<h1>\n",
        "<p>1 - Crea un programa que solicite al usuario que escriba su nombre y luego imprima \"Hola, [nombre].\"<p>\n"
      ],
      "metadata": {
        "id": "2UpsA52TmsCN"
      }
    },
    {
      "cell_type": "code",
      "execution_count": 2,
      "metadata": {
        "colab": {
          "base_uri": "https://localhost:8080/"
        },
        "id": "qOCPElzymRke",
        "outputId": "0296ae76-8f3a-44d6-893b-7e9ef000e62a"
      },
      "outputs": [
        {
          "output_type": "stream",
          "name": "stdout",
          "text": [
            "Ingrese su nombre: Marcelo\n",
            "Hola Marcelo\n"
          ]
        }
      ],
      "source": [
        "nombre = input('Ingrese su nombre: ')\n",
        "print(f'Hola {nombre}')"
      ]
    },
    {
      "cell_type": "markdown",
      "source": [
        "2 - Crea un programa que solicite al usuario que escriba su nombre y edad, y luego imprima \"Hola, [nombre], tienes [edad] años.\""
      ],
      "metadata": {
        "id": "JQV1wHiNnn5F"
      }
    },
    {
      "cell_type": "code",
      "source": [
        "nom = input('Ingrese su nombre: ')\n",
        "edad = input('Ingrese su edad: ')\n",
        "print('Hola, {}, tienes {} años'.format(nom,edad))"
      ],
      "metadata": {
        "colab": {
          "base_uri": "https://localhost:8080/"
        },
        "id": "DKyHL_H7or_d",
        "outputId": "cd6dcb86-64b1-447c-cf53-fc6a9839f461"
      },
      "execution_count": 7,
      "outputs": [
        {
          "output_type": "stream",
          "name": "stdout",
          "text": [
            "Ingrese su nombre: Marcelo\n",
            "Ingrese su edad: 23\n",
            "Hola, Marcelo, tienes 23 años\n"
          ]
        }
      ]
    },
    {
      "cell_type": "markdown",
      "source": [
        "3 - Crea un programa que solicite al usuario que escriba su nombre, edad y altura en metros, y luego imprima \"Hola, [nombre], tienes [edad] años y mides [altura] metros.\"\n"
      ],
      "metadata": {
        "id": "biwC685Fns8k"
      }
    },
    {
      "cell_type": "code",
      "source": [
        "nom = input('Ingrese su nombre: ')\n",
        "edad = int(input('Ingrese su edad: '))\n",
        "alt = float(input('Ingrese su altura: '))\n",
        "print('Hola, {}, tienes {} años y mides {} metros'.format(nom,edad,alt))"
      ],
      "metadata": {
        "colab": {
          "base_uri": "https://localhost:8080/"
        },
        "id": "4xmUX3KOow1Z",
        "outputId": "655ec767-dfed-45c0-84dc-998de0cebc27"
      },
      "execution_count": 8,
      "outputs": [
        {
          "output_type": "stream",
          "name": "stdout",
          "text": [
            "Ingrese su nombre: Marcelo\n",
            "Ingrese su edad: 23\n",
            "Ingrese su altura: 1.67\n",
            "Hola, Marcelo, tienes 23 años y mides 1.67 metros\n"
          ]
        }
      ]
    },
    {
      "cell_type": "markdown",
      "source": [
        "# Calculadora con operadores\n",
        "\n",
        "4 - Crea un programa que solicite dos valores numéricos al usuario y luego imprima la suma de ambos valores."
      ],
      "metadata": {
        "id": "iN-IizaIntST"
      }
    },
    {
      "cell_type": "code",
      "source": [
        "var1 = int(input('Primer número: '))\n",
        "var2 = int(input('Segundo número: '))\n",
        "print('La suma de {} y {} es: {}'.format(var1,var2,var1+var2))"
      ],
      "metadata": {
        "colab": {
          "base_uri": "https://localhost:8080/"
        },
        "id": "FDmAdok5oyf5",
        "outputId": "c1bbaa6e-f5be-46e9-9f64-0016d3bdf73d"
      },
      "execution_count": 9,
      "outputs": [
        {
          "output_type": "stream",
          "name": "stdout",
          "text": [
            "Primer número: 10\n",
            "Segundo número: 15\n",
            "La suma de 10 y 15 es: 25\n"
          ]
        }
      ]
    },
    {
      "cell_type": "markdown",
      "source": [
        "5 - Crea un programa que solicite tres valores numéricos al usuario y luego imprima la suma de los tres valores.\n"
      ],
      "metadata": {
        "id": "9WjqBq7intVQ"
      }
    },
    {
      "cell_type": "code",
      "source": [
        "a = int(input('1er número: '))\n",
        "b = int(input('2do número: '))\n",
        "c = int(input('3er número: '))\n",
        "sum = a+b+c\n",
        "print('La suma de {},{} y {} es: {}'.format(a,b,c,sum))"
      ],
      "metadata": {
        "colab": {
          "base_uri": "https://localhost:8080/"
        },
        "id": "iMhGoWSzozSm",
        "outputId": "f4bbac1a-c26a-44a5-e83c-bd881270d79f"
      },
      "execution_count": 12,
      "outputs": [
        {
          "output_type": "stream",
          "name": "stdout",
          "text": [
            "1er número: 1\n",
            "2do número: 2\n",
            "3er número: 3\n",
            "La suma de 1,2 y 3 es: 6\n"
          ]
        }
      ]
    },
    {
      "cell_type": "markdown",
      "source": [
        "6 - Crea un programa que solicite dos valores numéricos al usuario y luego imprima la resta del primero menos el segundo valor.\n"
      ],
      "metadata": {
        "id": "eXGE9vt-ntYl"
      }
    },
    {
      "cell_type": "code",
      "source": [
        "a = int(input('1er número: '))\n",
        "b = int(input('2do número: '))\n",
        "dif = a-b\n",
        "print('La resta de {} con {} es: {}'.format(a,b,dif))"
      ],
      "metadata": {
        "colab": {
          "base_uri": "https://localhost:8080/"
        },
        "id": "BNsiuphqo0CX",
        "outputId": "aa51ba7a-f123-4e9d-c189-532f0d2d21b3"
      },
      "execution_count": 13,
      "outputs": [
        {
          "output_type": "stream",
          "name": "stdout",
          "text": [
            "1er número: 7\n",
            "2do número: 5\n",
            "La resta de 7 con 5 es: 2\n"
          ]
        }
      ]
    },
    {
      "cell_type": "markdown",
      "source": [
        "7 - Crea un programa que solicite dos valores numéricos al usuario y luego imprima la multiplicación de los dos valores."
      ],
      "metadata": {
        "id": "F3Bm38N6ntc1"
      }
    },
    {
      "cell_type": "code",
      "source": [
        "a = int(input('1er número: '))\n",
        "b = int(input('2do número: '))\n",
        "pro = a*b\n",
        "print('El producto de {} con {} es: {}'.format(a,b,pro))"
      ],
      "metadata": {
        "colab": {
          "base_uri": "https://localhost:8080/"
        },
        "id": "S7Ap17keo0sM",
        "outputId": "26bd1132-ed7b-4638-af3c-3ca8f9224c59"
      },
      "execution_count": 15,
      "outputs": [
        {
          "output_type": "stream",
          "name": "stdout",
          "text": [
            "1er número: 5\n",
            "2do número: 3\n",
            "El producto de 5 con 3 es: 15\n"
          ]
        }
      ]
    },
    {
      "cell_type": "markdown",
      "source": [
        "8 - Crea un programa que solicite dos valores numéricos, un numerador y un denominador, y realice la división entre los dos valores. Asegúrate de que el valor del denominador no sea igual a 0."
      ],
      "metadata": {
        "id": "DrqYm3Vuntss"
      }
    },
    {
      "cell_type": "code",
      "source": [],
      "metadata": {
        "id": "pAgkHz_Yo1Sk"
      },
      "execution_count": null,
      "outputs": []
    },
    {
      "cell_type": "markdown",
      "source": [
        "9 - Crea un programa que solicite dos valores numéricos, un operador y una potencia, y realice la exponenciación entre estos dos valores.\n"
      ],
      "metadata": {
        "id": "2DuBSoiynt9s"
      }
    },
    {
      "cell_type": "code",
      "source": [],
      "metadata": {
        "id": "bCDBe_m7o2VH"
      },
      "execution_count": null,
      "outputs": []
    },
    {
      "cell_type": "markdown",
      "source": [
        "10 - Crea un programa que solicite dos valores numéricos, un numerador y un denominador, y realice la división entera entre los dos valores. Asegúrate de que el valor del denominador no sea igual a 0.\n"
      ],
      "metadata": {
        "id": "Ald_p6GinuAc"
      }
    },
    {
      "cell_type": "code",
      "source": [],
      "metadata": {
        "id": "S2e7Ew4no3A9"
      },
      "execution_count": null,
      "outputs": []
    },
    {
      "cell_type": "markdown",
      "source": [
        "11 - Crea un programa que solicite dos valores numéricos, un numerador y un denominador, y devuelva el resto de la división entre los dos valores. Asegúrate de que el valor del denominador no sea igual a 0."
      ],
      "metadata": {
        "id": "6WKwYOfAnuC_"
      }
    },
    {
      "cell_type": "code",
      "source": [],
      "metadata": {
        "id": "NV2pwae1o3h4"
      },
      "execution_count": null,
      "outputs": []
    },
    {
      "cell_type": "markdown",
      "source": [
        "12 - Crea un código que solicite las 3 notas de un estudiante e imprima el promedio de las notas."
      ],
      "metadata": {
        "id": "nzpRQ6hLnuFp"
      }
    },
    {
      "cell_type": "code",
      "source": [],
      "metadata": {
        "id": "O4HAkGyGoDmY"
      },
      "execution_count": null,
      "outputs": []
    },
    {
      "cell_type": "markdown",
      "source": [
        "13 - Crea un código que calcule e imprima el promedio ponderado de los números 5, 12, 20 y 15 con pesos respectivamente iguales a 1, 2, 3 y 4."
      ],
      "metadata": {
        "id": "4XMQwIFhoDxm"
      }
    },
    {
      "cell_type": "code",
      "source": [],
      "metadata": {
        "id": "xXgY8Lfco4Yk"
      },
      "execution_count": null,
      "outputs": []
    },
    {
      "cell_type": "markdown",
      "source": [
        "# Editando textos\n",
        "\n",
        "14 - Crea una variable llamada \"frase\" y asígnale una cadena de texto de tu elección. Luego, imprime la frase en pantalla.\n"
      ],
      "metadata": {
        "id": "pDFZc2W0oD7e"
      }
    },
    {
      "cell_type": "code",
      "source": [],
      "metadata": {
        "id": "HmHlelEjo6Bs"
      },
      "execution_count": null,
      "outputs": []
    },
    {
      "cell_type": "markdown",
      "source": [
        "15 - Crea un código que solicite una frase y luego imprima la frase en pantalla."
      ],
      "metadata": {
        "id": "wPYw8Fn3oEkF"
      }
    },
    {
      "cell_type": "code",
      "source": [],
      "metadata": {
        "id": "Fecbxwrio7Eu"
      },
      "execution_count": null,
      "outputs": []
    },
    {
      "cell_type": "markdown",
      "source": [
        "16 - Crea un código que solicite una frase al usuario y luego imprima la misma frase ingresada pero en mayúsculas.\n"
      ],
      "metadata": {
        "id": "q50xUZRknuIM"
      }
    },
    {
      "cell_type": "code",
      "source": [],
      "metadata": {
        "id": "cs0ewlhno7j1"
      },
      "execution_count": null,
      "outputs": []
    },
    {
      "cell_type": "markdown",
      "source": [
        "17 - Crea un código que solicite una frase al usuario y luego imprima la misma frase ingresada pero en minúsculas."
      ],
      "metadata": {
        "id": "q1PKvubloOTG"
      }
    },
    {
      "cell_type": "code",
      "source": [],
      "metadata": {
        "id": "z8xUeoS_o7-1"
      },
      "execution_count": null,
      "outputs": []
    },
    {
      "cell_type": "markdown",
      "source": [
        "18 - Crea una variable llamada \"frase\" y asígnale una cadena de texto de tu elección. Luego, imprime la frase sin espacios en blanco al principio y al final."
      ],
      "metadata": {
        "id": "XId1Zk5XoOm9"
      }
    },
    {
      "cell_type": "code",
      "source": [],
      "metadata": {
        "id": "-AlXQb6io8e5"
      },
      "execution_count": null,
      "outputs": []
    },
    {
      "cell_type": "markdown",
      "source": [
        "19 - Crea un código que solicite una frase al usuario y luego imprima la misma frase sin espacios en blanco al principio y al final.\n"
      ],
      "metadata": {
        "id": "RyScUAu1oOpw"
      }
    },
    {
      "cell_type": "code",
      "source": [],
      "metadata": {
        "id": "6p1HwQ9Uo84-"
      },
      "execution_count": null,
      "outputs": []
    },
    {
      "cell_type": "markdown",
      "source": [
        "20 - Crea un código que solicite una frase al usuario y luego imprima la misma frase sin espacios en blanco al principio y al final, además de convertirla a minúsculas.\n"
      ],
      "metadata": {
        "id": "rEbFKQINoOsw"
      }
    },
    {
      "cell_type": "code",
      "source": [],
      "metadata": {
        "id": "B4w3NT2Zo91v"
      },
      "execution_count": null,
      "outputs": []
    },
    {
      "cell_type": "markdown",
      "source": [
        "21 - Crea un código que solicite una frase al usuario y luego imprima la misma frase con todas las vocales \"e\" reemplazadas por la letra \"f\"."
      ],
      "metadata": {
        "id": "TjbKzEnPoOv3"
      }
    },
    {
      "cell_type": "code",
      "source": [],
      "metadata": {
        "id": "IHrfiQVyo-XG"
      },
      "execution_count": null,
      "outputs": []
    },
    {
      "cell_type": "markdown",
      "source": [
        "22 - Crea un código que solicite una frase al usuario y luego imprima la misma frase con todas las vocales \"a\" reemplazadas por el carácter \"@\".\n"
      ],
      "metadata": {
        "id": "UMSJ04u0oOy2"
      }
    },
    {
      "cell_type": "code",
      "source": [],
      "metadata": {
        "id": "uBLxFcsso-zJ"
      },
      "execution_count": null,
      "outputs": []
    },
    {
      "cell_type": "markdown",
      "source": [
        "23 - Crea un código que solicite una frase al usuario y luego imprima la misma frase con todas las consonantes \"s\" reemplazadas por el carácter \"$\"."
      ],
      "metadata": {
        "id": "PW7WrfdqoO1c"
      }
    },
    {
      "cell_type": "code",
      "source": [],
      "metadata": {
        "id": "UR-vNP2Yo_iX"
      },
      "execution_count": null,
      "outputs": []
    }
  ]
}