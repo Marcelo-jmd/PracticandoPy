{
  "nbformat": 4,
  "nbformat_minor": 0,
  "metadata": {
    "colab": {
      "provenance": [],
      "authorship_tag": "ABX9TyNZz9xlPQYSd7PHhMI0x2w9",
      "include_colab_link": true
    },
    "kernelspec": {
      "name": "python3",
      "display_name": "Python 3"
    },
    "language_info": {
      "name": "python"
    }
  },
  "cells": [
    {
      "cell_type": "markdown",
      "metadata": {
        "id": "view-in-github",
        "colab_type": "text"
      },
      "source": [
        "<a href=\"https://colab.research.google.com/github/Marcelo-jmd/PracticandoPy/blob/main/Practicando_Python.ipynb\" target=\"_parent\"><img src=\"https://colab.research.google.com/assets/colab-badge.svg\" alt=\"Open In Colab\"/></a>"
      ]
    },
    {
      "cell_type": "markdown",
      "source": [
        "<h1>Recopilación y muestra de datos<h1>\n",
        "<p>1 - Crea un programa que solicite al usuario que escriba su nombre y luego imprima \"Hola, [nombre].\"<p>\n"
      ],
      "metadata": {
        "id": "2UpsA52TmsCN"
      }
    },
    {
      "cell_type": "code",
      "execution_count": null,
      "metadata": {
        "colab": {
          "base_uri": "https://localhost:8080/"
        },
        "id": "qOCPElzymRke",
        "outputId": "0296ae76-8f3a-44d6-893b-7e9ef000e62a"
      },
      "outputs": [
        {
          "output_type": "stream",
          "name": "stdout",
          "text": [
            "Ingrese su nombre: Marcelo\n",
            "Hola Marcelo\n"
          ]
        }
      ],
      "source": [
        "nombre = input('Ingrese su nombre: ')\n",
        "print(f'Hola {nombre}')"
      ]
    },
    {
      "cell_type": "markdown",
      "source": [
        "2 - Crea un programa que solicite al usuario que escriba su nombre y edad, y luego imprima \"Hola, [nombre], tienes [edad] años.\""
      ],
      "metadata": {
        "id": "JQV1wHiNnn5F"
      }
    },
    {
      "cell_type": "code",
      "source": [
        "nom = input('Ingrese su nombre: ')\n",
        "edad = input('Ingrese su edad: ')\n",
        "print('Hola, {}, tienes {} años'.format(nom,edad))"
      ],
      "metadata": {
        "colab": {
          "base_uri": "https://localhost:8080/"
        },
        "id": "DKyHL_H7or_d",
        "outputId": "cd6dcb86-64b1-447c-cf53-fc6a9839f461"
      },
      "execution_count": null,
      "outputs": [
        {
          "output_type": "stream",
          "name": "stdout",
          "text": [
            "Ingrese su nombre: Marcelo\n",
            "Ingrese su edad: 23\n",
            "Hola, Marcelo, tienes 23 años\n"
          ]
        }
      ]
    },
    {
      "cell_type": "markdown",
      "source": [
        "3 - Crea un programa que solicite al usuario que escriba su nombre, edad y altura en metros, y luego imprima \"Hola, [nombre], tienes [edad] años y mides [altura] metros.\"\n"
      ],
      "metadata": {
        "id": "biwC685Fns8k"
      }
    },
    {
      "cell_type": "code",
      "source": [
        "nom = input('Ingrese su nombre: ')\n",
        "edad = int(input('Ingrese su edad: '))\n",
        "alt = float(input('Ingrese su altura: '))\n",
        "print('Hola, {}, tienes {} años y mides {} metros'.format(nom,edad,alt))"
      ],
      "metadata": {
        "colab": {
          "base_uri": "https://localhost:8080/"
        },
        "id": "4xmUX3KOow1Z",
        "outputId": "655ec767-dfed-45c0-84dc-998de0cebc27"
      },
      "execution_count": null,
      "outputs": [
        {
          "output_type": "stream",
          "name": "stdout",
          "text": [
            "Ingrese su nombre: Marcelo\n",
            "Ingrese su edad: 23\n",
            "Ingrese su altura: 1.67\n",
            "Hola, Marcelo, tienes 23 años y mides 1.67 metros\n"
          ]
        }
      ]
    },
    {
      "cell_type": "markdown",
      "source": [
        "# Calculadora con operadores\n",
        "\n",
        "4 - Crea un programa que solicite dos valores numéricos al usuario y luego imprima la suma de ambos valores."
      ],
      "metadata": {
        "id": "iN-IizaIntST"
      }
    },
    {
      "cell_type": "code",
      "source": [
        "var1 = int(input('Primer número: '))\n",
        "var2 = int(input('Segundo número: '))\n",
        "print('La suma de {} y {} es: {}'.format(var1,var2,var1+var2))"
      ],
      "metadata": {
        "colab": {
          "base_uri": "https://localhost:8080/"
        },
        "id": "FDmAdok5oyf5",
        "outputId": "c1bbaa6e-f5be-46e9-9f64-0016d3bdf73d"
      },
      "execution_count": null,
      "outputs": [
        {
          "output_type": "stream",
          "name": "stdout",
          "text": [
            "Primer número: 10\n",
            "Segundo número: 15\n",
            "La suma de 10 y 15 es: 25\n"
          ]
        }
      ]
    },
    {
      "cell_type": "markdown",
      "source": [
        "5 - Crea un programa que solicite tres valores numéricos al usuario y luego imprima la suma de los tres valores.\n"
      ],
      "metadata": {
        "id": "9WjqBq7intVQ"
      }
    },
    {
      "cell_type": "code",
      "source": [
        "a = int(input('1er número: '))\n",
        "b = int(input('2do número: '))\n",
        "c = int(input('3er número: '))\n",
        "sum = a+b+c\n",
        "print('La suma de {},{} y {} es: {}'.format(a,b,c,sum))"
      ],
      "metadata": {
        "colab": {
          "base_uri": "https://localhost:8080/"
        },
        "id": "iMhGoWSzozSm",
        "outputId": "f4bbac1a-c26a-44a5-e83c-bd881270d79f"
      },
      "execution_count": null,
      "outputs": [
        {
          "output_type": "stream",
          "name": "stdout",
          "text": [
            "1er número: 1\n",
            "2do número: 2\n",
            "3er número: 3\n",
            "La suma de 1,2 y 3 es: 6\n"
          ]
        }
      ]
    },
    {
      "cell_type": "markdown",
      "source": [
        "6 - Crea un programa que solicite dos valores numéricos al usuario y luego imprima la resta del primero menos el segundo valor.\n"
      ],
      "metadata": {
        "id": "eXGE9vt-ntYl"
      }
    },
    {
      "cell_type": "code",
      "source": [
        "a = int(input('1er número: '))\n",
        "b = int(input('2do número: '))\n",
        "dif = a-b\n",
        "print('La resta de {} con {} es: {}'.format(a,b,dif))"
      ],
      "metadata": {
        "colab": {
          "base_uri": "https://localhost:8080/"
        },
        "id": "BNsiuphqo0CX",
        "outputId": "aa51ba7a-f123-4e9d-c189-532f0d2d21b3"
      },
      "execution_count": null,
      "outputs": [
        {
          "output_type": "stream",
          "name": "stdout",
          "text": [
            "1er número: 7\n",
            "2do número: 5\n",
            "La resta de 7 con 5 es: 2\n"
          ]
        }
      ]
    },
    {
      "cell_type": "markdown",
      "source": [
        "7 - Crea un programa que solicite dos valores numéricos al usuario y luego imprima la multiplicación de los dos valores."
      ],
      "metadata": {
        "id": "F3Bm38N6ntc1"
      }
    },
    {
      "cell_type": "code",
      "source": [
        "a = int(input('1er número: '))\n",
        "b = int(input('2do número: '))\n",
        "pro = a*b\n",
        "print('El producto de {} con {} es: {}'.format(a,b,pro))"
      ],
      "metadata": {
        "colab": {
          "base_uri": "https://localhost:8080/"
        },
        "id": "S7Ap17keo0sM",
        "outputId": "26bd1132-ed7b-4638-af3c-3ca8f9224c59"
      },
      "execution_count": null,
      "outputs": [
        {
          "output_type": "stream",
          "name": "stdout",
          "text": [
            "1er número: 5\n",
            "2do número: 3\n",
            "El producto de 5 con 3 es: 15\n"
          ]
        }
      ]
    },
    {
      "cell_type": "markdown",
      "source": [
        "8 - Crea un programa que solicite dos valores numéricos, un numerador y un denominador, y realice la división entre los dos valores. Asegúrate de que el valor del denominador no sea igual a 0."
      ],
      "metadata": {
        "id": "DrqYm3Vuntss"
      }
    },
    {
      "cell_type": "code",
      "source": [
        "a = int(input('1er número: '))\n",
        "b = int(input('2do número: '))\n",
        "if b != 0:\n",
        "  div = a/b\n",
        "else:\n",
        "  div = 0\n",
        "print('La división de {} con {} es: {}'.format(a,b,div))"
      ],
      "metadata": {
        "colab": {
          "base_uri": "https://localhost:8080/"
        },
        "id": "pAgkHz_Yo1Sk",
        "outputId": "d388eab6-0e2f-44ca-d5c9-7b3a32d77ada"
      },
      "execution_count": null,
      "outputs": [
        {
          "output_type": "stream",
          "name": "stdout",
          "text": [
            "1er número: 6\n",
            "2do número: 0\n",
            "La división de 6 con 0 es: 0\n"
          ]
        }
      ]
    },
    {
      "cell_type": "markdown",
      "source": [
        "9 - Crea un programa que solicite dos valores numéricos, un operador y una potencia, y realice la exponenciación entre estos dos valores.\n"
      ],
      "metadata": {
        "id": "2DuBSoiynt9s"
      }
    },
    {
      "cell_type": "code",
      "source": [
        "a = int(input('1er número: '))\n",
        "b = int(input('2do número: '))\n",
        "pot = a**b\n",
        "print('La potencia de {} a la {} es: {}'.format(a,b,pot))"
      ],
      "metadata": {
        "colab": {
          "base_uri": "https://localhost:8080/"
        },
        "id": "bCDBe_m7o2VH",
        "outputId": "7440b5d9-5b55-44f3-e3c7-2921482fec69"
      },
      "execution_count": null,
      "outputs": [
        {
          "output_type": "stream",
          "name": "stdout",
          "text": [
            "1er número: 2\n",
            "2do número: 3\n",
            "La potencia de 2 a la 3 es: 8\n"
          ]
        }
      ]
    },
    {
      "cell_type": "markdown",
      "source": [
        "10 - Crea un programa que solicite dos valores numéricos, un numerador y un denominador, y realice la división entera entre los dos valores. Asegúrate de que el valor del denominador no sea igual a 0.\n"
      ],
      "metadata": {
        "id": "Ald_p6GinuAc"
      }
    },
    {
      "cell_type": "code",
      "source": [
        "a = int(input('1er número: '))\n",
        "b = int(input('2do número: '))\n",
        "if b != 0:\n",
        "  div = a/b\n",
        "else:\n",
        "  div = 0\n",
        "print('La división de {} con {} es: {}'.format(a,b,div))"
      ],
      "metadata": {
        "colab": {
          "base_uri": "https://localhost:8080/"
        },
        "id": "S2e7Ew4no3A9",
        "outputId": "962cfd98-2c31-4cc2-b3f4-db06a22ecad3"
      },
      "execution_count": null,
      "outputs": [
        {
          "output_type": "stream",
          "name": "stdout",
          "text": [
            "1er número: 6\n",
            "2do número: 0\n",
            "La división de 6 con 0 es: 0\n"
          ]
        }
      ]
    },
    {
      "cell_type": "markdown",
      "source": [
        "11 - Crea un programa que solicite dos valores numéricos, un numerador y un denominador, y devuelva el resto de la división entre los dos valores. Asegúrate de que el valor del denominador no sea igual a 0."
      ],
      "metadata": {
        "id": "6WKwYOfAnuC_"
      }
    },
    {
      "cell_type": "code",
      "source": [
        "a = int(input('1er número: '))\n",
        "b = int(input('2do número: '))\n",
        "if b != 0:\n",
        "  div = a%b\n",
        "else:\n",
        "  div = 0\n",
        "print('El resto de {} con {} es: {}'.format(a,b,div))"
      ],
      "metadata": {
        "colab": {
          "base_uri": "https://localhost:8080/"
        },
        "id": "NV2pwae1o3h4",
        "outputId": "607f2110-b0b0-4471-8d84-2e28786dfb5d"
      },
      "execution_count": null,
      "outputs": [
        {
          "output_type": "stream",
          "name": "stdout",
          "text": [
            "1er número: 12\n",
            "2do número: 4\n",
            "El resto de 12 con 4 es: 0\n"
          ]
        }
      ]
    },
    {
      "cell_type": "markdown",
      "source": [
        "12 - Crea un código que solicite las 3 notas de un estudiante e imprima el promedio de las notas."
      ],
      "metadata": {
        "id": "nzpRQ6hLnuFp"
      }
    },
    {
      "cell_type": "code",
      "source": [
        "a = int(input('1er nota: '))\n",
        "b = int(input('2do nota: '))\n",
        "c = int(input('3er nota: '))\n",
        "prom = (a+b+c)/3\n",
        "print('El promedio de los números es: %d'%(prom))"
      ],
      "metadata": {
        "colab": {
          "base_uri": "https://localhost:8080/"
        },
        "id": "O4HAkGyGoDmY",
        "outputId": "8e927343-9059-4370-884e-3a2d2f844c63"
      },
      "execution_count": null,
      "outputs": [
        {
          "output_type": "stream",
          "name": "stdout",
          "text": [
            "1er nota: 5\n",
            "2do nota: 3\n",
            "3er nota: 1\n",
            "El promedio de los números es: 3\n"
          ]
        }
      ]
    },
    {
      "cell_type": "markdown",
      "source": [
        "13 - Crea un código que calcule e imprima el promedio ponderado de los números 5, 12, 20 y 15 con pesos respectivamente iguales a 1, 2, 3 y 4."
      ],
      "metadata": {
        "id": "4XMQwIFhoDxm"
      }
    },
    {
      "cell_type": "code",
      "source": [
        "num1 = 5\n",
        "pes1 = 1\n",
        "num2 = 12\n",
        "pes2 = 2\n",
        "num3 = 20\n",
        "pes3 = 3\n",
        "num4 = 15\n",
        "pes4 = 4\n",
        "prom_ponderado = (num1*pes1+num2*pes2+num3*pes3+num4*pes4)/(num1+num2+num3+num4)\n",
        "print('El promedio ponderado es: %.2f'%(prom_ponderado))"
      ],
      "metadata": {
        "colab": {
          "base_uri": "https://localhost:8080/"
        },
        "id": "xXgY8Lfco4Yk",
        "outputId": "8cacca9f-bb15-4db9-86e1-9b9b76764429"
      },
      "execution_count": null,
      "outputs": [
        {
          "output_type": "stream",
          "name": "stdout",
          "text": [
            "El promedio ponderado es: 2.87\n"
          ]
        }
      ]
    },
    {
      "cell_type": "markdown",
      "source": [
        "# Editando textos\n",
        "\n",
        "14 - Crea una variable llamada \"frase\" y asígnale una cadena de texto de tu elección. Luego, imprime la frase en pantalla.\n"
      ],
      "metadata": {
        "id": "pDFZc2W0oD7e"
      }
    },
    {
      "cell_type": "code",
      "source": [
        "frase = 'Hola tengo sueño'\n",
        "print(f'Esta es mi frase \"{frase}\"')"
      ],
      "metadata": {
        "colab": {
          "base_uri": "https://localhost:8080/"
        },
        "id": "HmHlelEjo6Bs",
        "outputId": "b3eb815c-3c4d-4e59-cf35-c44a3b251f3d"
      },
      "execution_count": null,
      "outputs": [
        {
          "output_type": "stream",
          "name": "stdout",
          "text": [
            "Esta es mi frase \"Hola tengo sueño\"\n"
          ]
        }
      ]
    },
    {
      "cell_type": "markdown",
      "source": [
        "15 - Crea un código que solicite una frase y luego imprima la frase en pantalla."
      ],
      "metadata": {
        "id": "wPYw8Fn3oEkF"
      }
    },
    {
      "cell_type": "code",
      "source": [
        "frase = input('Ingresa una frase:')\n",
        "print(f'Esta es mi frase \"{frase}\"')"
      ],
      "metadata": {
        "colab": {
          "base_uri": "https://localhost:8080/"
        },
        "id": "Fecbxwrio7Eu",
        "outputId": "5aa5a291-cc7a-4088-e4cd-6559b20aaf5a"
      },
      "execution_count": null,
      "outputs": [
        {
          "output_type": "stream",
          "name": "stdout",
          "text": [
            "Ingresa una frase:Quiero comer\n",
            "Esta es mi frase \"Quiero comer\"\n"
          ]
        }
      ]
    },
    {
      "cell_type": "markdown",
      "source": [
        "16 - Crea un código que solicite una frase al usuario y luego imprima la misma frase ingresada pero en mayúsculas.\n"
      ],
      "metadata": {
        "id": "q50xUZRknuIM"
      }
    },
    {
      "cell_type": "code",
      "source": [
        "frase = input('Ingresa una frase:')\n",
        "print(f'Esta es tu frase \"{frase.upper()}\"')"
      ],
      "metadata": {
        "colab": {
          "base_uri": "https://localhost:8080/"
        },
        "id": "cs0ewlhno7j1",
        "outputId": "9a8db900-970e-45bb-838d-4d720f284842"
      },
      "execution_count": null,
      "outputs": [
        {
          "output_type": "stream",
          "name": "stdout",
          "text": [
            "Ingresa una frase:Soy Iroman\n",
            "Esta es tu frase \"SOY IROMAN\"\n"
          ]
        }
      ]
    },
    {
      "cell_type": "markdown",
      "source": [
        "17 - Crea un código que solicite una frase al usuario y luego imprima la misma frase ingresada pero en minúsculas."
      ],
      "metadata": {
        "id": "q1PKvubloOTG"
      }
    },
    {
      "cell_type": "code",
      "source": [
        "frase = input('Ingresa una frase:')\n",
        "print(f'Esta es tu frase \"{frase.lower()}\"')"
      ],
      "metadata": {
        "colab": {
          "base_uri": "https://localhost:8080/"
        },
        "id": "z8xUeoS_o7-1",
        "outputId": "cb9fe1de-ff71-4603-990f-e359c8c99eed"
      },
      "execution_count": null,
      "outputs": [
        {
          "output_type": "stream",
          "name": "stdout",
          "text": [
            "Ingresa una frase:Soy peter parker\n",
            "Esta es tu frase \"soy peter parker\"\n"
          ]
        }
      ]
    },
    {
      "cell_type": "markdown",
      "source": [
        "18 - Crea una variable llamada \"frase\" y asígnale una cadena de texto de tu elección. Luego, imprime la frase sin espacios en blanco al principio y al final."
      ],
      "metadata": {
        "id": "XId1Zk5XoOm9"
      }
    },
    {
      "cell_type": "code",
      "source": [
        "frase = '  Hola tengo sueño '\n",
        "print(f'Esta es mi frase \"{frase.strip()}\"')"
      ],
      "metadata": {
        "colab": {
          "base_uri": "https://localhost:8080/"
        },
        "id": "-AlXQb6io8e5",
        "outputId": "d473ce85-2d12-4991-a2d8-a68b813be55e"
      },
      "execution_count": null,
      "outputs": [
        {
          "output_type": "stream",
          "name": "stdout",
          "text": [
            "Esta es mi frase \"Hola tengo sueño\"\n"
          ]
        }
      ]
    },
    {
      "cell_type": "markdown",
      "source": [
        "19 - Crea un código que solicite una frase al usuario y luego imprima la misma frase sin espacios en blanco al principio y al final.\n"
      ],
      "metadata": {
        "id": "RyScUAu1oOpw"
      }
    },
    {
      "cell_type": "code",
      "source": [
        "frase = input('Ingresa tu frase: ')\n",
        "print(f'Esta es tu frase \"{frase.strip()}\"')"
      ],
      "metadata": {
        "colab": {
          "base_uri": "https://localhost:8080/"
        },
        "id": "6p1HwQ9Uo84-",
        "outputId": "876b852c-9575-4f30-b58e-7bc087bfc6c3"
      },
      "execution_count": null,
      "outputs": [
        {
          "output_type": "stream",
          "name": "stdout",
          "text": [
            "Ingresa tu frase:   La chica de dollarcity xdd \n",
            "Esta es tu frase \"La chica de dollarcity xdd\"\n"
          ]
        }
      ]
    },
    {
      "cell_type": "markdown",
      "source": [
        "20 - Crea un código que solicite una frase al usuario y luego imprima la misma frase sin espacios en blanco al principio y al final, además de convertirla a minúsculas.\n"
      ],
      "metadata": {
        "id": "rEbFKQINoOsw"
      }
    },
    {
      "cell_type": "code",
      "source": [
        "frase = input('Ingresa tu frase: ')\n",
        "print(f'Esta es tu frase \"{frase.strip().lower()}\"')"
      ],
      "metadata": {
        "colab": {
          "base_uri": "https://localhost:8080/"
        },
        "id": "B4w3NT2Zo91v",
        "outputId": "6f5eb9dd-9133-4268-d236-453845b39180"
      },
      "execution_count": null,
      "outputs": [
        {
          "output_type": "stream",
          "name": "stdout",
          "text": [
            "Ingresa tu frase:    Hakuna Matata \n",
            "Esta es tu frase \"hakuna matata\"\n"
          ]
        }
      ]
    },
    {
      "cell_type": "markdown",
      "source": [
        "21 - Crea un código que solicite una frase al usuario y luego imprima la misma frase con todas las vocales \"e\" reemplazadas por la letra \"f\"."
      ],
      "metadata": {
        "id": "TjbKzEnPoOv3"
      }
    },
    {
      "cell_type": "code",
      "source": [
        "frase = input('Ingresa tu frase: ')\n",
        "print('Esta es tu frase \"{}\"'.format(frase.replace('e','f')))"
      ],
      "metadata": {
        "colab": {
          "base_uri": "https://localhost:8080/"
        },
        "id": "IHrfiQVyo-XG",
        "outputId": "a9f69e4f-dbfb-48fe-a3ee-1c5c5466f802"
      },
      "execution_count": null,
      "outputs": [
        {
          "output_type": "stream",
          "name": "stdout",
          "text": [
            "Ingresa tu frase: El perro trae el omitrix\n",
            "Esta es tu frase \"El pfrro traf fl omitrix\"\n"
          ]
        }
      ]
    },
    {
      "cell_type": "markdown",
      "source": [
        "22 - Crea un código que solicite una frase al usuario y luego imprima la misma frase con todas las vocales \"a\" reemplazadas por el carácter \"@\".\n"
      ],
      "metadata": {
        "id": "UMSJ04u0oOy2"
      }
    },
    {
      "cell_type": "code",
      "source": [
        "frase = input('Ingresa tu frase: ')\n",
        "print('Esta es tu frase \"{}\"'.format(frase.replace('a','@')))"
      ],
      "metadata": {
        "colab": {
          "base_uri": "https://localhost:8080/"
        },
        "id": "uBLxFcsso-zJ",
        "outputId": "ef839497-8d53-466b-bd4a-4554165cc4cf"
      },
      "execution_count": null,
      "outputs": [
        {
          "output_type": "stream",
          "name": "stdout",
          "text": [
            "Ingresa tu frase: Quiero comer pizzaa\n",
            "Esta es tu frase \"Quiero comer pizz@@\"\n"
          ]
        }
      ]
    },
    {
      "cell_type": "markdown",
      "source": [
        "23 - Crea un código que solicite una frase al usuario y luego imprima la misma frase con todas las consonantes \"s\" reemplazadas por el carácter \"$\"."
      ],
      "metadata": {
        "id": "PW7WrfdqoO1c"
      }
    },
    {
      "cell_type": "code",
      "source": [
        "frase = input('Ingresa tu frase: ')\n",
        "print('Esta es tu frase \"{}\"'.format(frase.replace('s','$')))"
      ],
      "metadata": {
        "colab": {
          "base_uri": "https://localhost:8080/"
        },
        "id": "UR-vNP2Yo_iX",
        "outputId": "a7db66bf-d172-4a00-84fb-ef814067be4a"
      },
      "execution_count": null,
      "outputs": [
        {
          "output_type": "stream",
          "name": "stdout",
          "text": [
            "Ingresa tu frase: Casi ingreso una frase sin S\n",
            "Esta es tu frase \"Ca$i ingre$o una fra$e $in S\"\n"
          ]
        }
      ]
    },
    {
      "cell_type": "markdown",
      "source": [
        "# Entrenando la programación\n",
        "\n",
        "1 - Escribe un programa que pida a la persona usuaria que proporcione dos números y muestre el número más grande."
      ],
      "metadata": {
        "id": "FF0Ne_U3lwkN"
      }
    },
    {
      "cell_type": "code",
      "source": [
        "a = int(input('1er número: '))\n",
        "b = int(input('2do número: '))\n",
        "if a >= b:\n",
        "  print('El número mayor es: {}'.format(a))\n",
        "else:\n",
        "  print('El número mayor es: {}'.format(b))"
      ],
      "metadata": {
        "id": "8ODG1Mx9m5D-",
        "outputId": "b927a524-f8f6-4d66-e472-1b3a6d9e9e5e",
        "colab": {
          "base_uri": "https://localhost:8080/"
        }
      },
      "execution_count": null,
      "outputs": [
        {
          "output_type": "stream",
          "name": "stdout",
          "text": [
            "1er número: 20\n",
            "2do número: 3\n",
            "El número mayor es: 20\n"
          ]
        }
      ]
    },
    {
      "cell_type": "markdown",
      "source": [
        "2 - Escribe un programa que solicite el porcentaje de crecimiento de producción de una empresa e informe si hubo un crecimiento (porcentaje positivo) o una disminución (porcentaje negativo)."
      ],
      "metadata": {
        "id": "J7IBCB6PmG7J"
      }
    },
    {
      "cell_type": "code",
      "source": [
        "x = float(input('Ingrese porcentaje de crecimietn(%): '))\n",
        "if x >= 0:\n",
        "  print('Hubo un CRECIMIENTO DE PRODUCCCIÓN')\n",
        "else:\n",
        "  print('Hubo una DISMINUCIÓN DE PRODUCCCIÓN')"
      ],
      "metadata": {
        "id": "BBBYDa3Gm5zo",
        "outputId": "8c4d9bfc-2ab5-44d1-8866-108e90d1706f",
        "colab": {
          "base_uri": "https://localhost:8080/"
        }
      },
      "execution_count": null,
      "outputs": [
        {
          "output_type": "stream",
          "name": "stdout",
          "text": [
            "Ingrese porcentaje de crecimietn(%): -9.2\n",
            "Hubo una DISMINUCIÓN DE PRODUCCCIÓN\n"
          ]
        }
      ]
    },
    {
      "cell_type": "markdown",
      "source": [
        "3 - Escribe un programa que determine si una letra proporcionada por la persona usuaria es una vocal o una consonante."
      ],
      "metadata": {
        "id": "trI74MYamHRf"
      }
    },
    {
      "cell_type": "code",
      "source": [
        "x = input('Ingrese una letra: ')\n",
        "if x == 'a' or x == 'e' or x=='i' or x == 'o' or x == 'u':\n",
        "  print('La letra {} es una VOCAL'.format(x))\n",
        "else:\n",
        "  print('La letra {} es una CONSONANTE'.format(x))"
      ],
      "metadata": {
        "id": "TMydN_Lwm6oU",
        "outputId": "ed7c3d12-4716-4e7d-8cdd-68fa93d93659",
        "colab": {
          "base_uri": "https://localhost:8080/"
        }
      },
      "execution_count": null,
      "outputs": [
        {
          "output_type": "stream",
          "name": "stdout",
          "text": [
            "Ingrese una letra: w\n",
            "La letra w es una CONSONANTE\n"
          ]
        }
      ]
    },
    {
      "cell_type": "markdown",
      "source": [
        "4 - Escribe un programa que lea valores promedio de precios de un modelo de automóvil durante 3 años consecutivos y muestre el valor más alto y más bajo entre esos tres años."
      ],
      "metadata": {
        "id": "3Fdoy2MrmHVh"
      }
    },
    {
      "cell_type": "code",
      "source": [
        "p1 = int(input('1er número: '))\n",
        "p2 = int(input('2do número: '))\n",
        "p3 = int(input('3er número: '))\n",
        "mayor = p1\n",
        "menor = 0\n",
        "if p2 >= p1 and p2 >= p3:\n",
        "  mayor = p2\n",
        "  if p1 >= p3:\n",
        "    menor = p3\n",
        "  else:\n",
        "    menor = p1\n",
        "elif p3>= p1 and p3 >= p2:\n",
        "  mayor = p3\n",
        "  if p2 >= p1:\n",
        "    menor = p1\n",
        "  else:\n",
        "    menor = p2\n",
        "print('El promedio mayor es: {}'.format(mayor))\n",
        "print('El promedio menor es: {}'.format(menor))"
      ],
      "metadata": {
        "id": "N0u-zTjom7Mp",
        "outputId": "440f01fb-7bdd-46c3-ae6a-272a03d33868",
        "colab": {
          "base_uri": "https://localhost:8080/"
        }
      },
      "execution_count": null,
      "outputs": [
        {
          "output_type": "stream",
          "name": "stdout",
          "text": [
            "1er número: 351\n",
            "2do número: 352\n",
            "3er número: 52\n",
            "El promedio mayor es: 352\n",
            "El promedio menor es: 52\n"
          ]
        }
      ]
    },
    {
      "cell_type": "markdown",
      "source": [
        "5 - Escribe un programa que pregunte sobre el precio de tres productos e indique cuál es el producto más barato para comprar."
      ],
      "metadata": {
        "id": "8-2zih_hmHYg"
      }
    },
    {
      "cell_type": "code",
      "source": [
        "p1 = int(input('1er precio: '))\n",
        "p2 = int(input('2do precio: '))\n",
        "p3 = int(input('3er precio: '))\n",
        "menor = p1\n",
        "if p2 <= p1 and p2 <= p3:\n",
        "  menor = p2\n",
        "elif p3<= p1 and p3 <= p2:\n",
        "  menor = p3\n",
        "\n",
        "print('El precio menor es: {}'.format(menor))"
      ],
      "metadata": {
        "id": "xzgBmBD8m7yc",
        "outputId": "32cc3da3-aec4-4f2b-a410-f50412de1eff",
        "colab": {
          "base_uri": "https://localhost:8080/"
        }
      },
      "execution_count": null,
      "outputs": [
        {
          "output_type": "stream",
          "name": "stdout",
          "text": [
            "1er precio: 51\n",
            "2do precio: 5\n",
            "3er precio: 512\n",
            "El precio menor es: 5\n"
          ]
        }
      ]
    },
    {
      "cell_type": "markdown",
      "source": [
        "6 - Escribe un programa que lea tres números y los muestre en orden descendente."
      ],
      "metadata": {
        "id": "eAGysxC6mHcG"
      }
    },
    {
      "cell_type": "code",
      "source": [
        "p1 = int(input('1er número: '))\n",
        "p2 = int(input('2do número: '))\n",
        "p3 = int(input('3er número: '))\n",
        "\n",
        "if p1 >= p2 and p1 >= p3:\n",
        "  mayor = p1\n",
        "  if p2 >= p3:\n",
        "    medio = p2\n",
        "    menor = p3\n",
        "  else:\n",
        "    medio = p3\n",
        "    menor = p2\n",
        "elif p2 >= p1 and p2 >= p3:\n",
        "  mayor = p2\n",
        "  if p1>= p3:\n",
        "    medio = p1\n",
        "    menor = p3\n",
        "  else:\n",
        "    medio = p3\n",
        "    menor = p1\n",
        "else:\n",
        "  mayor = p3\n",
        "  if p1>= p2:\n",
        "    medio = p1\n",
        "    menor = p2\n",
        "  else:\n",
        "    medio = p2\n",
        "    menor = p1\n",
        "\n",
        "print('Los números ordenados en orden descendente: {}, {}, {}'.format(mayor,medio,menor))"
      ],
      "metadata": {
        "id": "qjqDNaH8m8ko",
        "outputId": "0abd6883-2913-4336-8bf7-e0a0d5692132",
        "colab": {
          "base_uri": "https://localhost:8080/"
        }
      },
      "execution_count": null,
      "outputs": [
        {
          "output_type": "stream",
          "name": "stdout",
          "text": [
            "1er número: 85\n",
            "2do número: 43\n",
            "3er número: 765\n",
            "Los números ordenados en orden descendente: 765, 85, 43\n"
          ]
        }
      ]
    },
    {
      "cell_type": "markdown",
      "source": [
        "7 -Escribe un programa que pregunte en qué turno estudia la persona usuaria (\"mañana\", \"tarde\" o \"noche\") y muestre el mensaje \"¡Buenos Días!\", \"¡Buenas Tardes!\", \"¡Buenas Noches!\" o \"Valor Inválido!\", según el caso."
      ],
      "metadata": {
        "id": "iNx0jCDjmHiR"
      }
    },
    {
      "cell_type": "code",
      "source": [
        "turno = input('Ingrese turno: ')\n",
        "if turno == 'mañana':\n",
        "  print('Buenos Días!')\n",
        "elif turno == 'tarde':\n",
        "  print('Buenos Tardes!')\n",
        "elif turno == 'noche':\n",
        "  print('Buenos Noches!')\n",
        "else:\n",
        "  print('Valor Inválido')"
      ],
      "metadata": {
        "id": "vkafP-0vm9GZ",
        "outputId": "4eb32708-a6df-47db-bd1c-595f362856b4",
        "colab": {
          "base_uri": "https://localhost:8080/"
        }
      },
      "execution_count": null,
      "outputs": [
        {
          "output_type": "stream",
          "name": "stdout",
          "text": [
            "Ingrese turno: tarde\n",
            "Buenos Tardes!\n"
          ]
        }
      ]
    },
    {
      "cell_type": "markdown",
      "source": [
        "8 - Escribe un programa que solicite un número entero a la persona usuaria y determine si es par o impar. Pista: Puedes usar el operador módulo (%)."
      ],
      "metadata": {
        "id": "vaIALtnBmZdV"
      }
    },
    {
      "cell_type": "code",
      "source": [
        "num = int(input('Ingrese un número: '))\n",
        "if num%2 == 0:\n",
        "  print('El número es par')\n",
        "else:\n",
        "  print('El número es impar')"
      ],
      "metadata": {
        "id": "BanBBT59m9mQ",
        "outputId": "b04cbeb3-9561-4a2d-cfa1-c195c0ca269a",
        "colab": {
          "base_uri": "https://localhost:8080/"
        }
      },
      "execution_count": null,
      "outputs": [
        {
          "output_type": "stream",
          "name": "stdout",
          "text": [
            "Ingrese un número: 9\n",
            "El número es impar\n"
          ]
        }
      ]
    },
    {
      "cell_type": "markdown",
      "source": [
        "9 - Escribe un programa que pida un número a la persona usuaria y le informe si es entero o decimal."
      ],
      "metadata": {
        "id": "OvYRUe8_mZlv"
      }
    },
    {
      "cell_type": "code",
      "source": [
        "print(int(5.2))"
      ],
      "metadata": {
        "id": "Mx3Tp3RvzEDU",
        "outputId": "5592d2d5-24d5-48ba-9596-d8193f070e8e",
        "colab": {
          "base_uri": "https://localhost:8080/"
        }
      },
      "execution_count": null,
      "outputs": [
        {
          "output_type": "stream",
          "name": "stdout",
          "text": [
            "5\n"
          ]
        }
      ]
    },
    {
      "cell_type": "code",
      "source": [
        "num = float(input('Ingrese un número: '))\n",
        "if num== int(num):\n",
        "    print(\"Es un número entero.\")\n",
        "else:\n",
        "    print(\"Es un número decimal.\")"
      ],
      "metadata": {
        "id": "ijw1D5pkm-Xd",
        "outputId": "3a785eea-c5d2-42e7-e3c9-7bb6c974b794",
        "colab": {
          "base_uri": "https://localhost:8080/"
        }
      },
      "execution_count": null,
      "outputs": [
        {
          "output_type": "stream",
          "name": "stdout",
          "text": [
            "Ingrese un número: 6\n",
            "Es un número entero.\n"
          ]
        }
      ]
    },
    {
      "cell_type": "markdown",
      "source": [
        "# Momento de los proyectos\n",
        "\n",
        "10 - Un programa debe ser escrito para leer dos números y luego preguntar a la persona usuaria qué operación desea realizar. El resultado de la operación debe incluir información sobre el número, si es par o impar, positivo o negativo, e entero o decimal."
      ],
      "metadata": {
        "id": "e_RJFT6EmZoZ"
      }
    },
    {
      "cell_type": "code",
      "source": [
        "n1 = float(input('Ingresa 1er número: '))\n",
        "n2 = float(input('Ingresa 2do número: '))\n",
        "op = input('Ingrese operación a realizar (s,r,m,d): ')\n",
        "if op =='s':\n",
        "  res = n1+n2\n",
        "elif op == 'r':\n",
        "  res = n1-n2\n",
        "elif op == 'm':\n",
        "  res = n1*n2\n",
        "else:\n",
        "  res = n1/n2\n",
        "print(f'El resultado es {res}')\n",
        "if res%2 == 0:\n",
        "  print('El resultado es PAR')\n",
        "else:\n",
        "  print('El resultado es IMPAR')\n",
        "if res >= 0:\n",
        "  print('El resultado es POSITIVO')\n",
        "else:\n",
        "  print('El resultado es NEGATIVO')\n",
        "if res == int(res):\n",
        "  print('El resultado es entero')\n",
        "else:\n",
        "  print('El resultado es decimal')"
      ],
      "metadata": {
        "id": "StlvS5DDm-4L",
        "outputId": "49b9620c-e13c-4c19-f70b-d17397869d17",
        "colab": {
          "base_uri": "https://localhost:8080/"
        }
      },
      "execution_count": null,
      "outputs": [
        {
          "output_type": "stream",
          "name": "stdout",
          "text": [
            "Ingresa 1er número: 5\n",
            "Ingresa 2do número: 1.5\n",
            "Ingrese operación a realizar (s,r,m,d): m\n",
            "El resultado es 7.5\n",
            "El resultado es IMPAR\n",
            "El resultado es POSITIVO\n",
            "El resultado es decimal\n"
          ]
        }
      ]
    },
    {
      "cell_type": "markdown",
      "source": [
        "11 - Escribe un programa que pida a la persona usuaria tres números que representan los lados de un triángulo. El programa debe informar si los valores pueden utilizarse para formar un triángulo y, en caso afirmativo, si es equilátero, isósceles o escaleno. Ten en cuenta algunas sugerencias:\n",
        "\n",
        "Tres lados forman un triángulo cuando la suma de cualesquiera dos lados es mayor que el tercero;\n",
        "Triángulo Equilátero: tres lados iguales;\n",
        "Triángulo Isósceles: dos lados iguales;\n",
        "Triángulo Escaleno: tres lados diferentes."
      ],
      "metadata": {
        "id": "3c76cqfmmZra"
      }
    },
    {
      "cell_type": "code",
      "source": [
        "a = int(input('Ingrese 1er lado: '))\n",
        "b = int(input('Ingrese 2do lado: '))\n",
        "c = int(input('Ingrese 3er lado: '))\n",
        "if a<b+c or b<a+c or c<a+b:\n",
        "  if a == b and b == c and c == a:\n",
        "    tip = 'Equilátero'\n",
        "  elif a == b or b == c or a == c:\n",
        "    tip = 'Isósceles'\n",
        "  else:\n",
        "    tip = 'Escaleno'\n",
        "  print(f'El triángulo es de tipo {tip}')\n",
        "else:\n",
        "  print('No se puede formar un triángulo')\n"
      ],
      "metadata": {
        "id": "8H3VvVyym_ib",
        "outputId": "4c95ab41-bfc2-4178-d701-2c187e9cbb55",
        "colab": {
          "base_uri": "https://localhost:8080/"
        }
      },
      "execution_count": null,
      "outputs": [
        {
          "output_type": "stream",
          "name": "stdout",
          "text": [
            "Ingrese 1er lado: 0\n",
            "Ingrese 2do lado: 0\n",
            "Ingrese 3er lado: 0\n",
            "No se puede formar un triángulo\n"
          ]
        }
      ]
    },
    {
      "cell_type": "markdown",
      "source": [
        "12 - Un establecimiento está vendiendo combustibles con descuentos variables. Para el etanol, si la cantidad comprada es de hasta 15 litros, el descuento será del 2% por litro. En caso contrario, será del 4% por litro. Para el diésel, si la cantidad comprada es de hasta 15 litros, el descuento será del 3% por litro. En caso contrario, será del 5% por litro. El precio por litro de diésel es de R$ 2,00 y el precio por litro de etanol es de R$ 1,70. Escribe un programa que lea la cantidad de litros vendidos y el tipo de combustible (E para etanol y D para diésel) y calcule el valor a pagar por el cliente. Ten en cuenta algunas sugerencias:\n",
        "\n",
        "El valor del descuento será el producto del precio por litro, la cantidad de litros y el valor del descuento.\n",
        "El valor a pagar por un cliente será el resultado de la multiplicación del precio por litro por la cantidad de litros menos el valor del descuento resultante del cálculo."
      ],
      "metadata": {
        "id": "VD2PZIGnmaPx"
      }
    },
    {
      "cell_type": "code",
      "source": [
        "l = float(input('Ingrese litros: '))\n",
        "tip = input('Ingrese tipo de combustible (E/D):')\n",
        "if tip == 'E':\n",
        "  prec = 2\n",
        "  if l <= 15:\n",
        "    desc = 0.02\n",
        "  else:\n",
        "    desc = 0.04\n",
        "\n",
        "elif tip == 'D':\n",
        "  prec = 1.7\n",
        "  if l <= 15:\n",
        "    desc = 0.03\n",
        "  else:\n",
        "    desc = 0.05\n",
        "else:\n",
        "  print('Tipo de combustible inválido')\n",
        "pagar = prec*l-prec*l*desc\n",
        "print('Usted compro {} litros de {} con un descuento de {} %, total a pagar: {}'.format(l,tip,desc*100,pagar))"
      ],
      "metadata": {
        "id": "dUPh-W9unAKF",
        "outputId": "31108301-d67e-4eda-c762-603fcedde367",
        "colab": {
          "base_uri": "https://localhost:8080/"
        }
      },
      "execution_count": null,
      "outputs": [
        {
          "output_type": "stream",
          "name": "stdout",
          "text": [
            "Ingrese litros: 30\n",
            "Ingrese tipo de combustible (E/D):D\n",
            "Usted compro 30.0 litros de D con un descuento de 5.0 %, total a pagar: 48.45\n"
          ]
        }
      ]
    },
    {
      "cell_type": "markdown",
      "source": [
        "13 - En una empresa de venta de bienes raíces, debes crear un código que analice los datos de ventas anuales para ayudar a la dirección en la toma de decisiones. El código debe recopilar los datos de cantidad de ventas durante los años 2022 y 2023 y calcular la variación porcentual. A partir del valor de la variación, se deben proporcionar las siguientes sugerencias:\n",
        "\n",
        "Para una variación superior al 20%: bonificación para el equipo de ventas.\n",
        "Para una variación entre el 2% y el 20%: pequeña bonificación para el equipo de ventas.\n",
        "Para una variación entre el 2% y el -10%: planificación de políticas de incentivo a las ventas.\n",
        "Para bonificaciones inferiores al -10%: recorte de gastos."
      ],
      "metadata": {
        "id": "Klh8CdxrmoyZ"
      }
    },
    {
      "cell_type": "code",
      "source": [
        "year1 = int(input('Venta anual del 2022: '))\n",
        "year2 = int(input('Venta anual del 2023: '))\n",
        "var = ((year2-year1)/year1)*100\n",
        "if var > 20:\n",
        "  est = 'Bonificación'\n",
        "elif var > 2:\n",
        "  est = 'Pequeña bonificación'\n",
        "elif var > -10:\n",
        "  est = 'Planificación de políticas de incentivo'\n",
        "else:\n",
        "  est = 'Recorte de gastos'\n",
        "print('El estado del equipo de ventas es: '+est)"
      ],
      "metadata": {
        "id": "kcjE5uFDnAx_",
        "outputId": "80e46f37-102a-4d9e-9193-6edb7059c4ac",
        "colab": {
          "base_uri": "https://localhost:8080/"
        }
      },
      "execution_count": null,
      "outputs": [
        {
          "output_type": "stream",
          "name": "stdout",
          "text": [
            "Venta anual del 2022: 100\n",
            "Venta anual del 2023: 99\n",
            "El estado del equipo de ventas es: Planificación de políticas de incentivo\n"
          ]
        }
      ]
    },
    {
      "cell_type": "markdown",
      "source": [
        "# Entrenando la programación\n",
        "\n",
        "1 - Escribe un programa que solicite dos números enteros e imprima todos los números enteros entre ellos."
      ],
      "metadata": {
        "id": "d2kJeGeLa5XU"
      }
    },
    {
      "cell_type": "code",
      "source": [
        "a = int(input('1er número: '))\n",
        "b = int(input('2do número: '))\n",
        "if a < b:\n",
        "  for i in range(a+1,b):\n",
        "    print(i)\n",
        "else:\n",
        "  for i in range(b+1,a):\n",
        "    print(i)"
      ],
      "metadata": {
        "id": "GSaGKblcbWvV",
        "outputId": "ffbe0649-7dd4-4e39-b591-493725be0e76",
        "colab": {
          "base_uri": "https://localhost:8080/"
        }
      },
      "execution_count": null,
      "outputs": [
        {
          "output_type": "stream",
          "name": "stdout",
          "text": [
            "1er número: 10\n",
            "2do número: 1\n",
            "2\n",
            "3\n",
            "4\n",
            "5\n",
            "6\n",
            "7\n",
            "8\n",
            "9\n"
          ]
        }
      ]
    },
    {
      "cell_type": "markdown",
      "source": [
        "2 - Escribe un programa para calcular cuántos días tomará que la colonia de una bacteria A supere o iguale a la colonia de una bacteria B, basado en tasas de crecimiento del 3% y 1.5%, respectivamente. Supón que la colonia A comienza con 4 elementos y B con 10."
      ],
      "metadata": {
        "id": "9EgChsBla8Nq"
      }
    },
    {
      "cell_type": "code",
      "source": [
        "a = 4\n",
        "b = 10\n",
        "dias = 0\n",
        "while a < b:\n",
        "  a = a*1.03\n",
        "  b = b*1.015\n",
        "  dias += 1\n",
        "print(f'Tomará {dias} días')"
      ],
      "metadata": {
        "id": "r7PZLdE8bXNM",
        "outputId": "c8f34272-3e2e-4945-dd38-2164d11c01a4",
        "colab": {
          "base_uri": "https://localhost:8080/"
        }
      },
      "execution_count": null,
      "outputs": [
        {
          "output_type": "stream",
          "name": "stdout",
          "text": [
            "Tomará 63 días\n"
          ]
        }
      ]
    },
    {
      "cell_type": "markdown",
      "source": [
        "3 - Para procesar una cantidad de 15 datos de evaluaciones de usuarios de un servicio de la empresa, necesitamos verificar si las calificaciones son válidas. Por lo tanto, escribe un programa que recibirá calificaciones del 0 al 5 y verificará si son valores válidos. Si se ingresa una calificación superior a 5 o inferior a 0, se repetirá hasta que el usuario ingrese un valor válido."
      ],
      "metadata": {
        "id": "_qxwXORma830"
      }
    },
    {
      "cell_type": "code",
      "source": [
        "calificacion = int(input('Ingrese calificación: '))\n",
        "while calificacion < 0 or calificacion > 5:\n",
        "  calificacion = int(input('Ingrese calificación: '))\n",
        "print('Calificación válida')"
      ],
      "metadata": {
        "id": "_raET_MYbXxB",
        "outputId": "24e24b6b-f0d5-4f4d-e6ac-307e7d09cc85",
        "colab": {
          "base_uri": "https://localhost:8080/"
        }
      },
      "execution_count": null,
      "outputs": [
        {
          "output_type": "stream",
          "name": "stdout",
          "text": [
            "Ingrese calificación: -4\n",
            "Ingrese calificación: 9\n",
            "Ingrese calificación: 4\n",
            "Calificación válida\n"
          ]
        }
      ]
    },
    {
      "cell_type": "markdown",
      "source": [
        "4 - Desarrolla un programa que lea un conjunto indefinido de temperaturas en grados Celsius y calcule su promedio. La lectura debe detenerse al ingresar el valor -273°C."
      ],
      "metadata": {
        "id": "jvl9J4f6a86T"
      }
    },
    {
      "cell_type": "code",
      "source": [
        "grados = int(input('Ingrese temperatura: '))\n",
        "suma = 0\n",
        "cont = 0\n",
        "while grados != -273:\n",
        "  suma += grados\n",
        "  cont += 1\n",
        "  grados = int(input('Ingrese temperatura: '))\n",
        "prom = suma/cont\n",
        "print(f'La temperatura promedio es: {prom}')"
      ],
      "metadata": {
        "id": "UrTTtK3tbYnd",
        "outputId": "55089d82-c4f8-4095-f7ec-e8033356c5c1",
        "colab": {
          "base_uri": "https://localhost:8080/"
        }
      },
      "execution_count": null,
      "outputs": [
        {
          "output_type": "stream",
          "name": "stdout",
          "text": [
            "Ingrese temperatura: 65\n",
            "Ingrese temperatura: 62\n",
            "Ingrese temperatura: 723\n",
            "Ingrese temperatura: -273\n",
            "La temperatura promedio es: 283.3333333333333\n"
          ]
        }
      ]
    },
    {
      "cell_type": "markdown",
      "source": [
        "5 - Escribe un programa que calcule el factorial de un número entero proporcionado por el usuario. Recuerda que el factorial de un número entero es el producto de ese número por todos sus antecesores hasta llegar al número 1. Por ejemplo, el factorial de 5 es 5 x 4 x 3 x 2 x 1 = 120."
      ],
      "metadata": {
        "id": "3ZTwJ8yIa89K"
      }
    },
    {
      "cell_type": "code",
      "source": [
        "fact = int(input('Ingrese número: '))\n",
        "res = 1\n",
        "for i in range(1,fact+1):\n",
        "  res *= i\n",
        "  print(i,\" * \",end=\"\")\n",
        "print(f'El factorial de {fact} es: {res}')"
      ],
      "metadata": {
        "id": "-ZqxrDy2bZNU",
        "outputId": "6eec11f1-e2ae-47ec-efe1-c45b72c89dc6",
        "colab": {
          "base_uri": "https://localhost:8080/"
        }
      },
      "execution_count": null,
      "outputs": [
        {
          "output_type": "stream",
          "name": "stdout",
          "text": [
            "Ingrese número: 5\n",
            "1  * 2  * 3  * 4  * 5  * El factorial de 5 es: 120\n"
          ]
        }
      ]
    },
    {
      "cell_type": "markdown",
      "source": [
        "# Momento de los proyectos\n",
        "\n",
        "6 - Escribe un programa que genere la tabla de multiplicar de un número entero del 1 al 10, según la elección del usuario. Como ejemplo, para el número 2, la tabla de multiplicar debe mostrarse en el siguiente formato:\n",
        "\n",
        "Tabla de multiplicar del 2:\n",
        "2 x 1 = 2\n",
        "2 x 2 = 4\n",
        "[...]\n",
        "2 x 10 = 20"
      ],
      "metadata": {
        "id": "KsFtYTHsa9Cx"
      }
    },
    {
      "cell_type": "code",
      "source": [
        "num = int(input(\"Ingrese número: \"))\n",
        "for i in range(1,11):\n",
        "  print(f'{num} x {i} = {num*i}')"
      ],
      "metadata": {
        "id": "JVE2ueOkbZyV",
        "outputId": "d77a14e4-f245-486f-b407-2abb06487cb0",
        "colab": {
          "base_uri": "https://localhost:8080/"
        }
      },
      "execution_count": null,
      "outputs": [
        {
          "output_type": "stream",
          "name": "stdout",
          "text": [
            "Ingrese número: 5\n",
            "5 x 1 = 5\n",
            "5 x 2 = 10\n",
            "5 x 3 = 15\n",
            "5 x 4 = 20\n",
            "5 x 5 = 25\n",
            "5 x 6 = 30\n",
            "5 x 7 = 35\n",
            "5 x 8 = 40\n",
            "5 x 9 = 45\n",
            "5 x 10 = 50\n"
          ]
        }
      ]
    },
    {
      "cell_type": "markdown",
      "source": [
        "7 - Los números primos tienen diversas aplicaciones en Ciencia de Datos, como en criptografía y seguridad. Un número primo es aquel que es divisible solo por sí mismo y por 1. Por lo tanto, crea un programa que solicite un número entero y determine si es un número primo o no."
      ],
      "metadata": {
        "id": "Dw8s0bQma9YP"
      }
    },
    {
      "cell_type": "code",
      "source": [
        "num = int(input(\"Ingrese número: \"))\n",
        "primo = True\n",
        "divisores = [1]\n",
        "for i in range(2,num+1):\n",
        "  if num%i == 0 and i != num:\n",
        "    divisores.append(i)\n",
        "    primo = False\n",
        "if primo:\n",
        "  print('El número es primo')\n",
        "else:\n",
        "  print('El número no es primo')\n",
        "divisores.append(num)\n",
        "print(f'Sus divisores son {divisores}')"
      ],
      "metadata": {
        "id": "voQXCEb-bbka",
        "outputId": "bf929e89-5396-4365-e62c-451328b7efb7",
        "colab": {
          "base_uri": "https://localhost:8080/"
        }
      },
      "execution_count": null,
      "outputs": [
        {
          "output_type": "stream",
          "name": "stdout",
          "text": [
            "Ingrese número: 15\n",
            "El número no es primo\n",
            "Sus divisores son [1, 3, 5, 15]\n"
          ]
        }
      ]
    },
    {
      "cell_type": "markdown",
      "source": [
        "8 - Vamos a comprender la distribución de edades de los pensionistas de una empresa de seguros. Escribe un programa que lea las edades de una cantidad no informada de clientes y muestre la distribución en los intervalos [0-25], [26-50], [51-75] y [76-100]. La entrada de datos se detendrá al ingresar un número negativo."
      ],
      "metadata": {
        "id": "sxcibkPSa9ks"
      }
    },
    {
      "cell_type": "code",
      "source": [
        "x,i1, i2, i3, i4 = 0,0,0,0,0\n",
        "while x >= 0:\n",
        "  x = int(input('Ingrese edad: '))\n",
        "  if x >= 0 and x <= 25:\n",
        "    i1 += 1\n",
        "  elif x >= 26 and x <= 50:\n",
        "    i2 += 1\n",
        "  elif x >= 51 and x <= 75:\n",
        "    i3 += 1\n",
        "  elif x > 75:\n",
        "    i4 += 1\n",
        "print('Distribucción de pensionados: ')\n",
        "print(f'[0-25]: {i1}')\n",
        "print(f'[26-50]: {i2}')\n",
        "print(f'[51-75]: {i3}')\n",
        "print(f'[76-100]: {i4}')\n",
        "\n"
      ],
      "metadata": {
        "id": "MqXgjoQ9-C7r",
        "outputId": "38434a32-8f55-42cf-c329-9d7bfdcce46f",
        "colab": {
          "base_uri": "https://localhost:8080/"
        }
      },
      "execution_count": 1,
      "outputs": [
        {
          "output_type": "stream",
          "name": "stdout",
          "text": [
            "Ingrese edad: 52\n",
            "Ingrese edad: 15\n",
            "Ingrese edad: 29\n",
            "Ingrese edad: 67\n",
            "Ingrese edad: 89\n",
            "Ingrese edad: 42\n",
            "Ingrese edad: 6\n",
            "Ingrese edad: 21\n",
            "Ingrese edad: 62\n",
            "Ingrese edad: -5\n",
            "Distribucción de pensionados: \n",
            "[0-25]: 3\n",
            "[26-50]: 2\n",
            "[51-75]: 3\n",
            "[76-100]: 2\n"
          ]
        }
      ]
    },
    {
      "cell_type": "markdown",
      "source": [
        "9 - En una elección para la gerencia de una empresa con 20 empleados, hay cuatro candidatos. Escribe un programa que calcule al ganador de la elección. La votación se realizó de la siguiente manera:\n",
        "\n",
        "Cada empleado votó por uno de los cuatro candidatos (representados por los números 1, 2, 3 y 4).\n",
        "\n",
        "También se contaron los votos nulos (representados por el número 5) y los votos en blanco (representados por el número 6).\n",
        "\n",
        "Al final de la votación, el programa debe mostrar el número total de votos para cada candidato, los votos nulos y los votos en blanco. Además, debe calcular y mostrar el porcentaje de votos nulos con respecto al total de votos y el porcentaje de votos en blanco con respecto al total de votos."
      ],
      "metadata": {
        "id": "mLHkgqtfbP1Y"
      }
    },
    {
      "cell_type": "code",
      "source": [
        "votos = [0,0,0,0,0,0]\n",
        "for i in range(20):\n",
        "  voto = int(input('Ingrese su voto: '))\n",
        "  if voto == 1:\n",
        "    votos[0] += 1\n",
        "  elif voto == 2:\n",
        "    votos[1] += 1\n",
        "  elif voto == 3:\n",
        "    votos[2] += 1\n",
        "  elif voto == 4:\n",
        "    votos[3] += 1\n",
        "  elif voto == 5:\n",
        "    votos[4] += 1\n",
        "  elif voto == 6:\n",
        "    votos[5] += 1\n",
        "print('Resultados de la elección: ')\n",
        "print(f'Candidato 1: {votos[0]}')\n",
        "print(f'Candidato 2: {votos[1]}')\n",
        "print(f'Candidato 3: {votos[2]}')\n",
        "print(f'Candidato 4: {votos[3]}')\n",
        "print(f'Votos nulos: {votos[4]} porcentaje {(votos[4]/20)*100}%')\n",
        "print(f'Votos en blanco: {votos[5]} porcentaje {(votos[5]/20)*100}%')"
      ],
      "metadata": {
        "id": "QQfeA8Sqbcz8",
        "outputId": "3eec0a3a-4f7e-4353-d0f9-da3d450a41f5",
        "colab": {
          "base_uri": "https://localhost:8080/"
        }
      },
      "execution_count": 4,
      "outputs": [
        {
          "output_type": "stream",
          "name": "stdout",
          "text": [
            "Ingrese su voto: 1\n",
            "Ingrese su voto: 1\n",
            "Ingrese su voto: 1\n",
            "Ingrese su voto: 1\n",
            "Ingrese su voto: 2\n",
            "Ingrese su voto: 2\n",
            "Ingrese su voto: 2\n",
            "Ingrese su voto: 2\n",
            "Ingrese su voto: 3\n",
            "Ingrese su voto: 3\n",
            "Ingrese su voto: 3\n",
            "Ingrese su voto: 3\n",
            "Ingrese su voto: 4\n",
            "Ingrese su voto: 4\n",
            "Ingrese su voto: 4\n",
            "Ingrese su voto: 4\n",
            "Ingrese su voto: 5\n",
            "Ingrese su voto: 6\n",
            "Ingrese su voto: 5\n",
            "Ingrese su voto: 6\n",
            "Resultados de la elección: \n",
            "Candidato 1: 4\n",
            "Candidato 2: 4\n",
            "Candidato 3: 4\n",
            "Candidato 4: 4\n",
            "Votos nulos: 2 porcentaje 10.0%\n",
            "Votos en blanco: 2 porcentaje 10.0%\n"
          ]
        }
      ]
    },
    {
      "cell_type": "markdown",
      "source": [
        "# Entrenando la programación\n",
        "\n",
        "1 - Crea un programa que tenga la siguiente lista con los gastos de una empresa de papel [2172.54, 3701.35, 3518.09, 3456.61, 3249.38, 2840.82, 3891.45, 3075.26, 2317.64, 3219.08]. Con estos valores, crea un programa que calcule el promedio de gastos. Sugerencia: usa las funciones integradas sum() y len()."
      ],
      "metadata": {
        "id": "duUGs_Ktjg8Z"
      }
    },
    {
      "cell_type": "code",
      "source": [
        "gastos = [2172.54, 3701.35, 3518.09, 3456.61, 3249.38, 2840.82, 3891.45, 3075.26, 2317.64, 3219.08]\n",
        "prom = sum(gastos)/len(gastos)\n",
        "print(f'El promedio de gastos es: {round(prom,2)}')"
      ],
      "metadata": {
        "id": "0jXgBk16jmaQ",
        "outputId": "583826cb-fee0-4255-bd76-f9a023028f84",
        "colab": {
          "base_uri": "https://localhost:8080/"
        }
      },
      "execution_count": 6,
      "outputs": [
        {
          "output_type": "stream",
          "name": "stdout",
          "text": [
            "El promedio de gastos es: 3144.22\n"
          ]
        }
      ]
    },
    {
      "cell_type": "markdown",
      "source": [
        "2 - Con los mismos datos de la pregunta anterior, determina cuántas compras se realizaron por encima de 3000 reales y calcula el porcentaje con respecto al total de compras."
      ],
      "metadata": {
        "id": "LzeswLVBjm0H"
      }
    },
    {
      "cell_type": "code",
      "source": [
        "enc = 0\n",
        "for x in gastos:\n",
        "  if x > 3000:\n",
        "    enc += 1\n",
        "print(f'El porcentaje de compras por encima de 3000 reales es: {round((enc/len(gastos))*100,2)}%')"
      ],
      "metadata": {
        "id": "HSghaI1rjoug",
        "outputId": "371a3337-f58d-4e5f-b872-02d25be4e1ba",
        "colab": {
          "base_uri": "https://localhost:8080/"
        }
      },
      "execution_count": 7,
      "outputs": [
        {
          "output_type": "stream",
          "name": "stdout",
          "text": [
            "El porcentaje de compras por encima de 3000 reales es: 70.0%\n"
          ]
        }
      ]
    },
    {
      "cell_type": "markdown",
      "source": [
        "3 - Crea un código que recoja en una lista 5 números enteros aleatorios e imprima la lista. Ejemplo: [1, 4, 7, 2, 4]."
      ],
      "metadata": {
        "id": "rl5L95vkjpDo"
      }
    },
    {
      "cell_type": "code",
      "source": [
        "!pip install numpy"
      ],
      "metadata": {
        "id": "xszTb3hS9t-M",
        "outputId": "429f9112-d826-441e-bc9a-878887828b2d",
        "colab": {
          "base_uri": "https://localhost:8080/"
        }
      },
      "execution_count": 9,
      "outputs": [
        {
          "output_type": "stream",
          "name": "stdout",
          "text": [
            "Requirement already satisfied: numpy in /usr/local/lib/python3.11/dist-packages (2.0.2)\n"
          ]
        }
      ]
    },
    {
      "cell_type": "code",
      "source": [
        "from random import randint\n",
        "lista = []\n",
        "for i in range(5):\n",
        "  lista.append(randint(1,10))\n",
        "print(lista)"
      ],
      "metadata": {
        "id": "xQOkVnfnjqj5",
        "outputId": "105787e0-ee7a-4446-8278-05fd233a0b53",
        "colab": {
          "base_uri": "https://localhost:8080/"
        }
      },
      "execution_count": 11,
      "outputs": [
        {
          "output_type": "stream",
          "name": "stdout",
          "text": [
            "[2, 5, 9, 9, 10]\n"
          ]
        }
      ]
    },
    {
      "cell_type": "markdown",
      "source": [
        "4 - Recoge nuevamente 5 números enteros e imprime la lista en orden inverso al enviado."
      ],
      "metadata": {
        "id": "fMbUJV2_jq3f"
      }
    },
    {
      "cell_type": "code",
      "source": [
        "from random import randint\n",
        "listaoriginal = []\n",
        "listainversa = []\n",
        "for i in range(5):\n",
        "  x= randint(1,10)\n",
        "  listaoriginal.append(x)\n",
        "  listainversa.insert(0,x)\n",
        "print(listaoriginal, listainversa)"
      ],
      "metadata": {
        "id": "HKRTtjZ8jsdw",
        "outputId": "045c878d-f169-45fb-81c4-c1f6bbc649f0",
        "colab": {
          "base_uri": "https://localhost:8080/"
        }
      },
      "execution_count": 12,
      "outputs": [
        {
          "output_type": "stream",
          "name": "stdout",
          "text": [
            "[3, 2, 8, 4, 5] [5, 4, 8, 2, 3]\n"
          ]
        }
      ]
    },
    {
      "cell_type": "markdown",
      "source": [
        "5 - Crea un programa que, al ingresar un número cualquiera, genere una lista que contenga todos los números primos entre 1 y el número ingresado."
      ],
      "metadata": {
        "id": "WlaCDibDjsyn"
      }
    },
    {
      "cell_type": "code",
      "source": [
        "num = int(input('Ingrese número: '))\n",
        "primos = []\n",
        "for i in range(2,num+1): #Empieza en 2 porque es primo y se agrega como límite el numero ingresado más el 1 que se quito\n",
        "  primo = True #Se asume que es primo\n",
        "  for j in range(2,i): # Pruebas si el primer número es divisible desde el dos hasta el mismo\n",
        "    if i%j == 0:\n",
        "      primo = False # Si es divisible, entonces no es primo\n",
        "      break\n",
        "  if primo:\n",
        "    primos.append(i) #Se agrega si es primo\n",
        "print(f'Los números primos son: {primos}')"
      ],
      "metadata": {
        "id": "ymzbxMbtjueQ",
        "outputId": "015e783b-2a7e-4785-ee0f-da2039eae24e",
        "colab": {
          "base_uri": "https://localhost:8080/"
        }
      },
      "execution_count": 13,
      "outputs": [
        {
          "output_type": "stream",
          "name": "stdout",
          "text": [
            "Ingrese número: 10\n",
            "Los números primos son: [2, 3, 5, 7]\n"
          ]
        }
      ]
    },
    {
      "cell_type": "markdown",
      "source": [
        "6 - Escribe un programa que pida una fecha, especificando el día, mes y año, y determine si es válida para su análisis."
      ],
      "metadata": {
        "id": "wEplVYuUjuvv"
      }
    },
    {
      "cell_type": "code",
      "source": [
        "dia = int(input('Ingrese día: '))\n",
        "mes = int(input('Ingrese mes: '))\n",
        "año = int(input('Ingrese año:'))\n",
        "if mes == 1 or mes == 3 or mes == 5 or mes == 7 or mes == 8 or mes == 10 or mes == 12:\n",
        "          if dia >= 1 and dia <= 31:\n",
        "            print('Fecha válida')\n",
        "          else:\n",
        "            print('Fecha inválida')\n",
        "elif mes == 4 or mes == 6 or mes == 9 or mes == 11:\n",
        "          if dia >= 1 and dia <= 30:\n",
        "            print('Fecha válida')\n",
        "          else:\n",
        "            print('Fecha inválida')\n",
        "elif mes == 2:\n",
        "          if dia >= 1 and dia <= 28:\n",
        "            print('Fecha válida')\n",
        "          else:\n",
        "            print('Fecha inválida')\n",
        "else:\n",
        "  print('Fecha inválida')"
      ],
      "metadata": {
        "id": "XCZzMkRTjwI_",
        "outputId": "cfb325a8-f220-4e0c-d2ed-7e615b3e7dcf",
        "colab": {
          "base_uri": "https://localhost:8080/"
        }
      },
      "execution_count": 17,
      "outputs": [
        {
          "output_type": "stream",
          "name": "stdout",
          "text": [
            "Ingrese día: 29\n",
            "Ingrese mes: 2\n",
            "Ingrese año:2001\n",
            "Fecha inválida\n"
          ]
        }
      ]
    },
    {
      "cell_type": "markdown",
      "source": [
        "## Momento para los proyectos\n",
        "\n",
        "7 - Para un estudio sobre la multiplicación de bacterias en una colonia, se recopiló el número de bacterias multiplicadas por día y se puede observar a continuación: [1.2, 2.1, 3.3, 5.0, 7.8, 11.3, 16.6, 25.1, 37.8, 56.9]. Con estos valores, crea un código que genere una lista que contenga el porcentaje de crecimiento de bacterias por día, comparando el número de bacterias en cada día con el número de bacterias del día anterior. Sugerencia: para calcular el porcentaje de crecimiento, utiliza la siguiente ecuación: 100 * (muestra_actual - muestra_anterior) / muestra_anterior."
      ],
      "metadata": {
        "id": "T4KFiQvgjwbI"
      }
    },
    {
      "cell_type": "code",
      "source": [],
      "metadata": {
        "id": "Ac2fMnEDjz9p"
      },
      "execution_count": null,
      "outputs": []
    },
    {
      "cell_type": "markdown",
      "source": [
        "8 - Para una selección de productos alimenticios, debemos separar el conjunto de IDs proporcionados por números enteros, sabiendo que los productos con ID par son dulces y los que tienen ID impar son amargos. Crea un código que recoja 10 IDs. Luego, calcula y muestra la cantidad de productos dulces y amargos."
      ],
      "metadata": {
        "id": "B30cX2qej0nH"
      }
    },
    {
      "cell_type": "code",
      "source": [],
      "metadata": {
        "id": "y514Y1iZj2mo"
      },
      "execution_count": null,
      "outputs": []
    },
    {
      "cell_type": "markdown",
      "source": [
        "9 - Desarrolla un programa que informe la puntuación de un estudiante de acuerdo con sus respuestas. Debe pedir la respuesta del estudiante para cada pregunta y verificar si la respuesta coincide con el resultado. Cada pregunta vale un punto y hay opciones A, B, C o D."
      ],
      "metadata": {
        "id": "0uapz28Zj26o"
      }
    },
    {
      "cell_type": "code",
      "source": [
        "\"\"\"\n",
        "Resultado del examen:\n",
        "01 - D\n",
        "02 - A\n",
        "03 - C\n",
        "04 - B\n",
        "05 - A\n",
        "06 - D\n",
        "07 - C\n",
        "08 - C\n",
        "09 - A\n",
        "10 - B\n",
        "\"\"\""
      ],
      "metadata": {
        "id": "uA2etg5oj-M5"
      },
      "execution_count": null,
      "outputs": []
    },
    {
      "cell_type": "code",
      "source": [],
      "metadata": {
        "id": "s-boIjxZkAQo"
      },
      "execution_count": null,
      "outputs": []
    },
    {
      "cell_type": "markdown",
      "source": [
        "10 - Un instituto de meteorología desea realizar un estudio de la temperatura media de cada mes del año. Para ello, debes crear un código que recoja y almacene esas temperaturas medias en una lista. Luego, calcula el promedio anual de las temperaturas y muestra todas las temperaturas por encima del promedio anual y en qué mes ocurrieron, mostrando los meses por su nombre (Enero, Febrero, etc.)."
      ],
      "metadata": {
        "id": "q64aHaKTkE6A"
      }
    },
    {
      "cell_type": "code",
      "source": [],
      "metadata": {
        "id": "wW_0h2ujkG2X"
      },
      "execution_count": null,
      "outputs": []
    },
    {
      "cell_type": "markdown",
      "source": [
        "11 - Una empresa de comercio electrónico está interesada en analizar las ventas de sus productos. Los datos de ventas se han almacenado en un diccionario:\n",
        "Escribe un código que calcule el total de ventas y el producto más vendido."
      ],
      "metadata": {
        "id": "OUl28b5nkHRa"
      }
    },
    {
      "cell_type": "code",
      "source": [
        "productos = {'Producto A': 300, 'Producto B': 80, 'Producto C': 60, 'Producto D': 200, 'Producto E': 250, 'Producto F': 30}"
      ],
      "metadata": {
        "id": "khKD2GqOkLwn"
      },
      "execution_count": null,
      "outputs": []
    },
    {
      "cell_type": "markdown",
      "source": [
        "12 - Se realizó una encuesta de mercado para decidir cuál diseño de marca infantil es más atractivo para los niños. Los votos de la encuesta se pueden ver a continuación:\n",
        "\n",
        "Tabla de votos de la marca\n",
        "Diseño 1 - 1334 votos\n",
        "Diseño 2 - 982 votos\n",
        "Diseño 3 - 1751 votos\n",
        "Diseño 4 - 210 votos\n",
        "Diseño 5 - 1811 votos\n",
        "\n",
        "Adapta los datos proporcionados a una estructura de diccionario. A partir de ello, informa el diseño ganador y el porcentaje de votos recibidos."
      ],
      "metadata": {
        "id": "LXm1VinKkSlw"
      }
    },
    {
      "cell_type": "code",
      "source": [],
      "metadata": {
        "id": "RemU5t7dkZwg"
      },
      "execution_count": null,
      "outputs": []
    },
    {
      "cell_type": "markdown",
      "source": [
        "13 - Los empleados de un departamento de tu empresa recibirán una bonificación del 10% de su salario debido a un excelente rendimiento del equipo. El departamento de finanzas ha solicitado tu ayuda para verificar las consecuencias financieras de esta bonificación en los recursos. Se te ha enviado una lista con los salarios que recibirán la bonificación: [1172, 1644, 2617, 5130, 5532, 6341, 6650, 7238, 7685, 7782, 7903]. La bonificación de cada empleado no puede ser inferior a 200. En el código, convierte cada uno de los salarios en claves de un diccionario y la bonificación de cada salario en el valor correspondiente. Luego, informa el gasto total en bonificaciones, cuántos empleados recibieron la bonificación mínima y cuál fue el valor más alto de la bonificación proporcionada."
      ],
      "metadata": {
        "id": "a55HrvwzkaDB"
      }
    },
    {
      "cell_type": "code",
      "source": [],
      "metadata": {
        "id": "Wf41V7Urkb0w"
      },
      "execution_count": null,
      "outputs": []
    },
    {
      "cell_type": "markdown",
      "source": [
        "14 - Un equipo de científicos de datos está estudiando la diversidad biológica en un bosque. El equipo recopiló información sobre el número de especies de plantas y animales en cada área del bosque y almacenó estos datos en un diccionario. En él, la clave describe el área de los datos y los valores en las listas corresponden a las especies de plantas y animales en esas áreas, respectivamente.\n",
        "Escribe un código para calcular el promedio de especies por área e identificar el área con la mayor diversidad biológica. Sugerencia: utiliza las funciones incorporadas sum() y len()."
      ],
      "metadata": {
        "id": "o_0UUmKIkcGo"
      }
    },
    {
      "cell_type": "code",
      "source": [
        "bosque = {'Área Norte': [2819, 7236], 'Área Leste': [1440, 9492], 'Área Sul': [5969, 7496], 'Área Oeste': [14446, 49688], 'Área Centro': [22558, 45148]}"
      ],
      "metadata": {
        "id": "f7xLnobvkewO"
      },
      "execution_count": null,
      "outputs": []
    },
    {
      "cell_type": "code",
      "source": [],
      "metadata": {
        "id": "i1C_MPdoki9Q"
      },
      "execution_count": null,
      "outputs": []
    },
    {
      "cell_type": "markdown",
      "source": [
        "15 - El departamento de Recursos Humanos de tu empresa te pidió ayuda para analizar las edades de los colaboradores de 4 sectores de la empresa. Para ello, te proporcionaron los siguientes datos:"
      ],
      "metadata": {
        "id": "BXlhV1BVkqLh"
      }
    },
    {
      "cell_type": "code",
      "source": [
        "colaboradores = {'Setor A': [22, 26, 30, 30, 35, 38, 40, 56, 57, 65],\n",
        " 'Setor B': [22, 24, 26, 33, 41, 49, 50, 54, 60, 64],\n",
        " 'Setor C': [23, 26, 26, 29, 34, 35, 36, 41, 52, 56],\n",
        " 'Setor D': [19, 20, 25, 27, 34, 39, 42, 44, 50, 65]}"
      ],
      "metadata": {
        "id": "h4IBwQeoktNg"
      },
      "execution_count": null,
      "outputs": []
    },
    {
      "cell_type": "markdown",
      "source": [
        "Dado que cada sector tiene 10 colaboradores, construye un código que calcule la media de edad de cada sector, la edad media general entre todos los sectores y cuántas personas están por encima de la edad media general."
      ],
      "metadata": {
        "id": "4YNiD2VIkx15"
      }
    },
    {
      "cell_type": "code",
      "source": [],
      "metadata": {
        "id": "TrkBmr0ak0Uv"
      },
      "execution_count": null,
      "outputs": []
    }
  ]
}